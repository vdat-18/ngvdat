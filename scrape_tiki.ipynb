{
  "cells": [
    {
      "cell_type": "markdown",
      "metadata": {
        "id": "view-in-github",
        "colab_type": "text"
      },
      "source": [
        "<a href=\"https://colab.research.google.com/github/vdat-18/ngvdat/blob/main/scrape_tiki.ipynb\" target=\"_parent\"><img src=\"https://colab.research.google.com/assets/colab-badge.svg\" alt=\"Open In Colab\"/></a>"
      ]
    },
    {
      "cell_type": "markdown",
      "metadata": {
        "id": "M3exIgBK8Mvk"
      },
      "source": [
        "# ***`________________________________________________________________________________________________________________________________________________________________`***"
      ]
    },
    {
      "cell_type": "code",
      "execution_count": null,
      "metadata": {
        "colab": {
          "base_uri": "https://localhost:8080/"
        },
        "id": "sL0Gb3PZQJvu",
        "outputId": "7f409ee4-9a98-4c1d-a488-bd5e1e897bf0"
      },
      "outputs": [
        {
          "name": "stdout",
          "output_type": "stream",
          "text": [
            "Mounted at /content/drive\n"
          ]
        }
      ],
      "source": [
        "from google.colab import drive\n",
        "\n",
        "drive.mount('/content/drive')"
      ]
    },
    {
      "cell_type": "code",
      "execution_count": null,
      "metadata": {
        "colab": {
          "base_uri": "https://localhost:8080/"
        },
        "id": "oMZ2dc6I9kEM",
        "outputId": "53123519-8c82-4dd9-d637-0e6674e20df4"
      },
      "outputs": [
        {
          "name": "stdout",
          "output_type": "stream",
          "text": [
            "Requirement already satisfied: requests in /usr/local/lib/python3.10/dist-packages (2.32.3)\n",
            "Requirement already satisfied: charset-normalizer<4,>=2 in /usr/local/lib/python3.10/dist-packages (from requests) (3.3.2)\n",
            "Requirement already satisfied: idna<4,>=2.5 in /usr/local/lib/python3.10/dist-packages (from requests) (3.8)\n",
            "Requirement already satisfied: urllib3<3,>=1.21.1 in /usr/local/lib/python3.10/dist-packages (from requests) (2.0.7)\n",
            "Requirement already satisfied: certifi>=2017.4.17 in /usr/local/lib/python3.10/dist-packages (from requests) (2024.7.4)\n"
          ]
        }
      ],
      "source": [
        "!pip install requests"
      ]
    },
    {
      "cell_type": "code",
      "execution_count": null,
      "metadata": {
        "id": "qEFFf_PU9gL9"
      },
      "outputs": [],
      "source": [
        "import requests\n",
        "import pandas\n",
        "import time\n",
        "import random\n",
        "import pandas as pd\n",
        "from tqdm import tqdm\n",
        "from openpyxl import load_workbook\n",
        "import json\n",
        "from multiprocessing import Pool, cpu_count\n",
        "import re\n",
        "from tqdm import tqdm"
      ]
    },
    {
      "cell_type": "markdown",
      "metadata": {
        "id": "X1TiwOp0q78h"
      },
      "source": [
        "# ***`GET \"PRODUCT_ID\"`***"
      ]
    },
    {
      "cell_type": "code",
      "execution_count": null,
      "metadata": {
        "id": "YpLiGw3cWygT"
      },
      "outputs": [],
      "source": [
        "import requests\n",
        "\n",
        "headers = {\n",
        "    'accept': 'application/json, text/plain, */*',\n",
        "    'accept-language': 'en-US,en;q=0.8',\n",
        "    '^cookie': 'TOKENS=^{^%^22access_token^%^22:^%^22sGXVTeHDn9da0MgmvSpQcN5PLWlrAZ7C^%^22^}; _trackity=9e8a0644-a99d-86b4-83f1-868b4f808281; TIKI_RECOMMENDATION=f78133de4856b4d837775f81483ed4a9; TKSESSID=7b6645586fb80f08e6560923e3f04f37; tiki_client_id=; delivery_zone=Vk4wMzkwMjMwMTE=^',\n",
        "    'priority': 'u=1, i',\n",
        "    'referer': 'https://tiki.vn/tui-thoi-trang-nam/c27616',\n",
        "    '^sec-ch-ua': '^\\\\^Not/A)Brand^\\\\^;v=^\\\\^8^\\\\^, ^\\\\^Chromium^\\\\^;v=^\\\\^126^\\\\^, ^\\\\^Brave^\\\\^;v=^\\\\^126^\\\\^^',\n",
        "    'sec-ch-ua-mobile': '?0',\n",
        "    '^sec-ch-ua-platform': '^\\\\^Windows^\\\\^^',\n",
        "    'sec-fetch-dest': 'empty',\n",
        "    'sec-fetch-mode': 'cors',\n",
        "    'sec-fetch-site': 'same-origin',\n",
        "    'sec-gpc': '1',\n",
        "    'user-agent': 'Mozilla/5.0 (Windows NT 10.0; Win64; x64) AppleWebKit/537.36 (KHTML, like Gecko) Chrome/126.0.0.0 Safari/537.36',\n",
        "    'x-guest-token': 'sGXVTeHDn9da0MgmvSpQcN5PLWlrAZ7C',\n",
        "}\n",
        "\n",
        "params = (\n",
        "    ('limit', '40'),\n",
        "    ('include', 'advertisement'),\n",
        "    ('aggregations', '2'),\n",
        "    ('version', 'home-persionalized'),\n",
        "    ('trackity_id', '9e8a0644-a99d-86b4-83f1-868b4f808281'),\n",
        "    ('category', '27616'),\n",
        "    ('page', '1'),\n",
        "    ('urlKey', 'tui-thoi-trang-nam'),\n",
        ")\n",
        "\n",
        "response = requests.get('https://tiki.vn/api/personalish/v1/blocks/listings', headers=headers, params=params)\n",
        "\n",
        "#NB. Original query string below. It seems impossible to parse and\n",
        "#reproduce query strings 100% accurately so the one below is given\n",
        "#in case the reproduced version is not \"correct\".\n",
        "# response = requests.get('https://tiki.vn/api/personalish/v1/blocks/listings?limit=40&include=advertisement&aggregations=2&version=home-persionalized&trackity_id=9e8a0644-a99d-86b4-83f1-868b4f808281&category=27616&page=1&urlKey=tui-thoi-trang-nam', headers=headers)\n"
      ]
    },
    {
      "cell_type": "code",
      "execution_count": null,
      "metadata": {
        "id": "64n7Wr0mXiM9"
      },
      "outputs": [],
      "source": [
        "params = dict(params)"
      ]
    },
    {
      "cell_type": "code",
      "execution_count": null,
      "metadata": {
        "id": "reJrBT5WW2Bf"
      },
      "outputs": [],
      "source": [
        "product_id = []\n",
        "for i in range (1,6):\n",
        "  params['page'] = i\n",
        "  response = requests.get('https://tiki.vn/api/personalish/v1/blocks/listings', headers = headers, params = params)\n",
        "  if response.status_code == 200:\n",
        "    print(\"request success!!!\")\n",
        "    for record in response.json().get('data'):\n",
        "      product_id.append({'id': record.get('id')})\n",
        "      # product_id.append({'brand_name': record.get('brand_name')})\n",
        "\n",
        "  time.sleep(random.randrange(3,10))\n",
        "df = pd.DataFrame(product_id)"
      ]
    },
    {
      "cell_type": "code",
      "execution_count": null,
      "metadata": {
        "id": "7Fx2DQLctPTb"
      },
      "outputs": [],
      "source": [
        "df.drop_duplicates(inplace=True)"
      ]
    },
    {
      "cell_type": "markdown",
      "metadata": {
        "id": "HTjyN73hdQ0g"
      },
      "source": [
        "# ***`________________________________________________________________________________________________________________________________________________________________`***"
      ]
    },
    {
      "cell_type": "markdown",
      "metadata": {
        "id": "R9SthOyny7Nf"
      },
      "source": [
        "# ***`GET \"NAME_SHOP\" and \"LINK_SHOP\"`***"
      ]
    },
    {
      "cell_type": "code",
      "execution_count": null,
      "metadata": {
        "id": "RIY0P96IaN_V"
      },
      "outputs": [],
      "source": [
        "def parser_product(json):\n",
        "    d = dict()\n",
        "    # Handle the case when 'current_seller' might be missing\n",
        "    current_seller = json.get('current_seller')\n",
        "    if current_seller:\n",
        "        d['id'] = current_seller.get('id')\n",
        "        d['link'] = current_seller.get('link')\n",
        "        d['name'] = current_seller.get('name')\n",
        "    else:\n",
        "        # Handle the case gracefully, e.g., set default values or log a warning\n",
        "        d['id'] = None\n",
        "        d['link'] = None\n",
        "        d['name'] = None\n",
        "        print(f\"Warning: 'current_seller' not found in JSON for product ID {json.get('id', 'Unknown')}\")\n",
        "    return d"
      ]
    },
    {
      "cell_type": "code",
      "execution_count": null,
      "metadata": {
        "colab": {
          "base_uri": "https://localhost:8080/"
        },
        "id": "VSICL1xTguTO",
        "outputId": "8a157966-15a5-42a3-e024-98a32fe6d3cd"
      },
      "outputs": [
        {
          "name": "stderr",
          "output_type": "stream",
          "text": [
            "100%|██████████| 2/2 [06:53<00:00, 206.72s/it]\n"
          ]
        }
      ],
      "source": [
        "# Assuming 'df' is your DataFrame with product IDs\n",
        "df_id = df\n",
        "p_ids = df_id.id.to_list()\n",
        "\n",
        "\n",
        "def fetch_product_data(pid):\n",
        "    response = requests.get(f'https://tiki.vn/api/v2/products/{pid}', headers=headers, params=params)\n",
        "    if response.status_code == 200:\n",
        "        try:\n",
        "            return parser_product(response.json())\n",
        "        except ValueError as e:\n",
        "            print(f\"Error decoding JSON for product ID {pid}: {e}\")\n",
        "            return None\n",
        "    else:\n",
        "        print(f\"Request failed for product ID {pid} with status code: {response.status_code}\")\n",
        "        return None\n",
        "\n",
        "def worker(p_ids_chunk):\n",
        "    result_chunk = []\n",
        "    for pid in p_ids_chunk:\n",
        "        product_data = fetch_product_data(pid)\n",
        "        if product_data is not None:\n",
        "            result_chunk.append(product_data)\n",
        "        time.sleep(random.randrange(3, 5))  # Adjust sleep time if needed\n",
        "    return result_chunk\n",
        "\n",
        "if __name__ == '__main__':\n",
        "    # Determine the number of worker processes\n",
        "    num_workers = multiprocessing.cpu_count()\n",
        "\n",
        "    # Split the product IDs into chunks\n",
        "    chunk_size = len(p_ids) // num_workers\n",
        "    chunks = [p_ids[i:i + chunk_size] for i in range(0, len(p_ids), chunk_size)]\n",
        "\n",
        "    # Create a pool of worker processes\n",
        "    pool = multiprocessing.Pool(num_workers)\n",
        "\n",
        "    # Use tqdm to show progress bar\n",
        "    result = []\n",
        "    for chunk_result in tqdm(pool.imap(worker, chunks), total=len(chunks)):\n",
        "        result.extend(chunk_result)\n",
        "\n",
        "    # Close the pool and wait for the worker processes to finish\n",
        "    pool.close()\n",
        "    pool.join()\n",
        "\n",
        "    # Create DataFrame from the results\n",
        "    df_product = pd.DataFrame(result)\n"
      ]
    },
    {
      "cell_type": "code",
      "execution_count": null,
      "metadata": {
        "id": "lrYjYvT-CH-4"
      },
      "outputs": [],
      "source": [
        "df_product.drop_duplicates(inplace=True)"
      ]
    },
    {
      "cell_type": "markdown",
      "metadata": {
        "id": "YuOdCApg8GE9"
      },
      "source": [
        "# ***`________________________________________________________________________________________________________________________________________________________________`***"
      ]
    },
    {
      "cell_type": "markdown",
      "metadata": {
        "id": "9JM5RNer_hRq"
      },
      "source": [
        "# ***`GET \"PRODUCT_ID\" OF EACH PRODUCT IN A SHOP`***"
      ]
    },
    {
      "cell_type": "code",
      "execution_count": null,
      "metadata": {
        "id": "wm_A-4Q39FfS"
      },
      "outputs": [],
      "source": [
        "import requests\n",
        "\n",
        "headers = {\n",
        "    'accept': 'application/json, text/plain, */*',\n",
        "    'accept-language': 'en-US,en;q=0.8',\n",
        "    '^cookie': '_trackity=bbb05fd0-d2f9-29d5-7332-31137c25fb41; TOKENS=^{^%^22access_token^%^22:^%^22sGXVTeHDn9da0MgmvSpQcN5PLWlrAZ7C^%^22^}; delivery_zone=Vk4wMzkwMDYwMDE=; tiki_client_id=^',\n",
        "    'origin': 'https://tiki.vn',\n",
        "    'priority': 'u=1, i',\n",
        "    'referer': 'https://tiki.vn/',\n",
        "    '^sec-ch-ua': '^\\\\^Not)A;Brand^\\\\^;v=^\\\\^99^\\\\^, ^\\\\^Brave^\\\\^;v=^\\\\^127^\\\\^, ^\\\\^Chromium^\\\\^;v=^\\\\^127^\\\\^^',\n",
        "    'sec-ch-ua-mobile': '?0',\n",
        "    '^sec-ch-ua-platform': '^\\\\^Windows^\\\\^^',\n",
        "    'sec-fetch-dest': 'empty',\n",
        "    'sec-fetch-mode': 'cors',\n",
        "    'sec-fetch-site': 'same-site',\n",
        "    'sec-gpc': '1',\n",
        "    'user-agent': 'Mozilla/5.0 (Windows NT 10.0; Win64; x64) AppleWebKit/537.36 (KHTML, like Gecko) Chrome/127.0.0.0 Safari/537.36',\n",
        "    'x-guest-token': 'sGXVTeHDn9da0MgmvSpQcN5PLWlrAZ7C',\n",
        "}\n",
        "\n",
        "params = (\n",
        "    ('limit', '1'),\n",
        "    ('page', '1'),\n",
        ")\n",
        "\n",
        "response = requests.get('https://api.tiki.vn/v2/seller/stores/shop-mrhi/products', headers=headers, params=params)\n",
        "\n",
        "#NB. Original query string below. It seems impossible to parse and\n",
        "#reproduce query strings 100% accurately so the one below is given\n",
        "#in case the reproduced version is not \"correct\".\n",
        "# response = requests.get('https://api.tiki.vn/v2/seller/stores/shop-mrhi/products?limit=1&page=1', headers=headers)\n"
      ]
    },
    {
      "cell_type": "code",
      "execution_count": null,
      "metadata": {
        "collapsed": true,
        "id": "1P4qeP2ZBBFC"
      },
      "outputs": [],
      "source": [
        "params = dict(params)\n",
        "product_id_eachProduct = []\n",
        "for i in range(1, 4):\n",
        "    params['page'] = i\n",
        "    response = requests.get('https://api.tiki.vn/v2/seller/stores/shop-mrhi/products', headers=headers, params=params)\n",
        "\n",
        "    if response.status_code == 200:\n",
        "        for record in response.json().get('data'):\n",
        "            product_id_eachProduct.append({'id': record.get('id')})\n",
        "df = pd.DataFrame(product_id_eachProduct)"
      ]
    },
    {
      "cell_type": "markdown",
      "metadata": {
        "id": "KVmdWCIfGBAe"
      },
      "source": [
        "# ***`GET INFOMATION OF EACH PRODUCT REGARDING \"PRODUCT_ID\"`***"
      ]
    },
    {
      "cell_type": "code",
      "execution_count": null,
      "metadata": {
        "id": "kHQHzN_tzDdx"
      },
      "outputs": [],
      "source": [
        "import requests\n",
        "\n",
        "headers = {\n",
        "    'accept': 'application/json, text/plain, */*',\n",
        "    'accept-language': 'en-US,en;q=0.8',\n",
        "    '^cookie': '_trackity=bbb05fd0-d2f9-29d5-7332-31137c25fb41; TOKENS=^{^%^22access_token^%^22:^%^22sGXVTeHDn9da0MgmvSpQcN5PLWlrAZ7C^%^22^}; delivery_zone=Vk4wMzkwMDYwMDE=; tiki_client_id=^',\n",
        "    'priority': 'u=1, i',\n",
        "    'referer': 'https://tiki.vn/cua-hang/shop-mrhi?t=product',\n",
        "    '^sec-ch-ua': '^\\\\^Not)A;Brand^\\\\^;v=^\\\\^99^\\\\^, ^\\\\^Brave^\\\\^;v=^\\\\^127^\\\\^, ^\\\\^Chromium^\\\\^;v=^\\\\^127^\\\\^^',\n",
        "    'sec-ch-ua-mobile': '?0',\n",
        "    '^sec-ch-ua-platform': '^\\\\^Windows^\\\\^^',\n",
        "    'sec-fetch-dest': 'empty',\n",
        "    'sec-fetch-mode': 'cors',\n",
        "    'sec-fetch-site': 'same-origin',\n",
        "    'sec-gpc': '1',\n",
        "    'user-agent': 'Mozilla/5.0 (Windows NT 10.0; Win64; x64) AppleWebKit/537.36 (KHTML, like Gecko) Chrome/127.0.0.0 Safari/537.36',\n",
        "    'x-guest-token': 'sGXVTeHDn9da0MgmvSpQcN5PLWlrAZ7C',\n",
        "}\n",
        "\n",
        "params = (\n",
        "    ('platform', 'web'),\n",
        "    ('spid', '144643834'),\n",
        "    ('version', '3'),\n",
        ")\n",
        "\n",
        "response = requests.get('https://tiki.vn/api/v2/products/144643830', headers=headers, params=params)\n",
        "\n",
        "#NB. Original query string below. It seems impossible to parse and\n",
        "#reproduce query strings 100% accurately so the one below is given\n",
        "#in case the reproduced version is not \"correct\".\n",
        "# response = requests.get('https://tiki.vn/api/v2/products/144643830?platform=web&spid=144643834&version=3', headers=headers)\n"
      ]
    },
    {
      "cell_type": "code",
      "execution_count": null,
      "metadata": {
        "colab": {
          "base_uri": "https://localhost:8080/"
        },
        "id": "rgPzAHWgGJiB",
        "outputId": "71bc6860-e399-4b7a-c8e2-a94e5e4e0014"
      },
      "outputs": [
        {
          "name": "stderr",
          "output_type": "stream",
          "text": [
            "100%|██████████| 120/120 [00:57<00:00,  2.08it/s]"
          ]
        },
        {
          "name": "stdout",
          "output_type": "stream",
          "text": [
            "Error decoding JSON for product ID: 73167033, Error: Expecting value: line 1 column 1 (char 0)\n"
          ]
        },
        {
          "name": "stderr",
          "output_type": "stream",
          "text": [
            "\n"
          ]
        }
      ],
      "source": [
        "def parser_product(json):\n",
        "    d = dict()\n",
        "    d['id'] = json.get('id')\n",
        "    d['name'] = json.get('name')\n",
        "    d['price'] = json.get('price')\n",
        "    d['rating_average'] = json.get('rating_average')\n",
        "    d['review_count'] = json.get('review_count')\n",
        "    d['quantity_sold'] = json.get('all_time_quantity_sold')\n",
        "    d['categories'] = json.get('categories').get('name')\n",
        "\n",
        "    return d\n",
        "#-------------------------------------------------------------------------------\n",
        "df_id = df\n",
        "p_ids = df_id.id.to_list()\n",
        "result = []\n",
        "for pid in tqdm(p_ids, total=len(p_ids)):\n",
        "    response = requests.get('https://tiki.vn/api/v2/products/{}'.format(pid), headers=headers, params=params)\n",
        "\n",
        "    # Check for non-200 status codes and handle them\n",
        "    if response.status_code != 200:\n",
        "        print(f\"Error fetching data for product ID: {pid}, Status Code: {response.status_code}\")\n",
        "        continue  # Skip to the next product ID\n",
        "\n",
        "    try:\n",
        "        result.append(parser_product(response.json()))\n",
        "    except ValueError as e:\n",
        "        print(f\"Error decoding JSON for product ID: {pid}, Error: {e}\")\n",
        "        # print(response.text)  # Print the raw response for debugging\n",
        "\n",
        "df_product_mapping = pd.DataFrame(result)"
      ]
    },
    {
      "cell_type": "markdown",
      "metadata": {
        "id": "fo8kK3tz7x1v"
      },
      "source": [
        "# ***`GET \"REVIEWS\" OF EACH PRODUCT`***"
      ]
    },
    {
      "cell_type": "code",
      "execution_count": null,
      "metadata": {
        "id": "w8Rl_L3uhhiP"
      },
      "outputs": [],
      "source": [
        "import requests\n",
        "\n",
        "headers = {\n",
        "    'accept': 'application/json, text/plain, */*',\n",
        "    'accept-language': 'en-US,en;q=0.8',\n",
        "    '^cookie': '_trackity=bbb05fd0-d2f9-29d5-7332-31137c25fb41; TOKENS=^{^%^22access_token^%^22:^%^22sGXVTeHDn9da0MgmvSpQcN5PLWlrAZ7C^%^22^}; delivery_zone=Vk4wMzkwMDYwMDE=; tiki_client_id=^',\n",
        "    'priority': 'u=1, i',\n",
        "    'referer': 'https://tiki.vn/op-lung-kinh-cuong-luc-nham-chong-van-tay-baseus-frosted-glass-protective-case-dung-cho-iphone-13-series_-hang-chinh-hang-p144643830.html?spid=144643834',\n",
        "    '^sec-ch-ua': '^\\\\^Not)A;Brand^\\\\^;v=^\\\\^99^\\\\^, ^\\\\^Brave^\\\\^;v=^\\\\^127^\\\\^, ^\\\\^Chromium^\\\\^;v=^\\\\^127^\\\\^^',\n",
        "    'sec-ch-ua-mobile': '?0',\n",
        "    '^sec-ch-ua-platform': '^\\\\^Windows^\\\\^^',\n",
        "    'sec-fetch-dest': 'empty',\n",
        "    'sec-fetch-mode': 'cors',\n",
        "    'sec-fetch-site': 'same-origin',\n",
        "    'sec-gpc': '1',\n",
        "    'user-agent': 'Mozilla/5.0 (Windows NT 10.0; Win64; x64) AppleWebKit/537.36 (KHTML, like Gecko) Chrome/127.0.0.0 Safari/537.36',\n",
        "    'x-guest-token': 'sGXVTeHDn9da0MgmvSpQcN5PLWlrAZ7C',\n",
        "}\n",
        "\n",
        "params = (\n",
        "    ('limit', '5'),\n",
        "    ('include', 'comments,contribute_info,attribute_vote_summary'),\n",
        "    ('sort', 'score^%^7Cdesc,id^%^7Cdesc,stars^%^7Call'),\n",
        "    ('page', '1'),\n",
        "    ('spid', '144643834'),\n",
        "    ('product_id', '144643830'),\n",
        "    ('seller_id', '5822^'),\n",
        ")\n",
        "\n",
        "response = requests.get('https://tiki.vn/api/v2/reviews', headers=headers, params=params)\n",
        "\n",
        "#NB. Original query string below. It seems impossible to parse and\n",
        "#reproduce query strings 100% accurately so the one below is given\n",
        "#in case the reproduced version is not \"correct\".\n",
        "# response = requests.get('^https://tiki.vn/api/v2/reviews?limit=5&include=comments,contribute_info,attribute_vote_summary&sort=score^%^7Cdesc,id^%^7Cdesc,stars^%^7Call&page=1&spid=144643834&product_id=144643830&seller_id=5822^', headers=headers)\n"
      ]
    },
    {
      "cell_type": "code",
      "execution_count": null,
      "metadata": {
        "colab": {
          "base_uri": "https://localhost:8080/"
        },
        "id": "1l2gm-SFpOiK",
        "outputId": "d8667d79-f1e7-4d1a-f2f8-7f45153b1e9e"
      },
      "outputs": [
        {
          "name": "stderr",
          "output_type": "stream",
          "text": [
            "100%|██████████| 119/119 [14:53<00:00,  7.51s/it]\n"
          ]
        }
      ],
      "source": [
        "#----------------------------------------------------------------------------------------------------------------------------------------------------------------------\n",
        "def comment_parser(json):\n",
        "    d = dict()\n",
        "    d['content'] = json.get('content')\n",
        "    return d\n",
        "#-----------------------------------------------------------------------------------------------------------------------------------------------------------------------\n",
        "# Load product IDs from Excel file\n",
        "df_id = df_product_mapping\n",
        "p_ids = df_id.id.to_list()\n",
        "\n",
        "# Main list to store results\n",
        "result = []\n",
        "\n",
        "# Iterate over product IDs\n",
        "for pid in tqdm(p_ids, total=len(p_ids)):\n",
        "    params_dict = dict(params) # Convert tuple to dictionary\n",
        "    params_dict['product_id'] = pid\n",
        "    temp_result = []\n",
        "\n",
        "    # Iterate over pages\n",
        "    for i in range(1, 21):\n",
        "        params_dict['page'] = i\n",
        "        response = requests.get('https://tiki.vn/api/v2/reviews', headers=headers, params=params_dict)\n",
        "        if response.status_code == 200:\n",
        "            for comment in response.json().get('data'):\n",
        "                temp_result.append(comment_parser(comment))\n",
        "\n",
        "    # Append temporary list to main result list\n",
        "    result.append(temp_result)\n",
        "df_comment_mapping = pd.DataFrame(result)\n"
      ]
    },
    {
      "cell_type": "code",
      "execution_count": null,
      "metadata": {
        "id": "2cdpI1qjELj2"
      },
      "outputs": [],
      "source": [
        "# Assuming df_product_mapping is your DataFrame\n",
        "# Replace illegal characters with a suitable replacement\n",
        "# df_product_mapping = df_product_mapping.replace('\\b', '', regex=True)\n",
        "\n",
        "df_product_mapping.to_excel('/content/drive/MyDrive/Colab Notebooks/Dataset TIki/new_info_1.xlsx', index=False)\n",
        "df_comment_mapping.to_excel('/content/drive/MyDrive/Colab Notebooks/Dataset TIki/comments_tiki_1.xlsx', index=False)\n"
      ]
    },
    {
      "cell_type": "code",
      "execution_count": null,
      "metadata": {
        "id": "ZkxnDRheELoj"
      },
      "outputs": [],
      "source": []
    },
    {
      "cell_type": "markdown",
      "metadata": {
        "id": "axBC94HklRMG"
      },
      "source": [
        "# ***`________________________________________________________________________________________________________________________________________________________________`***"
      ]
    },
    {
      "cell_type": "markdown",
      "metadata": {
        "id": "svcdKbtZuYty"
      },
      "source": [
        "# ***`Estimated Revenue Crawl`***"
      ]
    },
    {
      "cell_type": "markdown",
      "source": [
        "Đoạn code dưới đây nhằm thu thập dữ liệu \"id\", \"quantity_sold\" sau 1 tháng nhằm tính toán doanh thu từng sản phẩm và ước tính doanh thu cửa hàng."
      ],
      "metadata": {
        "id": "O3OT6e6mPvys"
      }
    },
    {
      "cell_type": "code",
      "execution_count": null,
      "metadata": {
        "id": "7aXOFJscvfNy"
      },
      "outputs": [],
      "source": [
        "df = pd.read_excel('/content/drive/My Drive/Colab Notebooks/NCKH (Ph. Danh Hường)/Data thô/raw_final.xlsx')"
      ]
    },
    {
      "cell_type": "code",
      "execution_count": null,
      "metadata": {
        "id": "iL0P3vHnuo8C"
      },
      "outputs": [],
      "source": [
        "import requests\n",
        "\n",
        "headers = {\n",
        "    'accept': 'application/json, text/plain, */*',\n",
        "    'accept-language': 'en-US,en;q=0.7',\n",
        "    '^cookie': 'TOKENS=^{^%^22access_token^%^22:^%^22sGXVTeHDn9da0MgmvSpQcN5PLWlrAZ7C^%^22^}; _trackity=76e86747-ffbd-a408-d1c4-465a4492ad49; tiki_client_id=; delivery_zone=Vk4wMzkwMjMwMTE=^',\n",
        "    'priority': 'u=1, i',\n",
        "    'referer': 'https://tiki.vn/tai-nghe-nhet-tai-co-micro-jbl-c200si-hang-chinh-hang-p214168962.html?spid=214168963',\n",
        "    '^sec-ch-ua': '^\\\\^Not)A;Brand^\\\\^;v=^\\\\^99^\\\\^, ^\\\\^Brave^\\\\^;v=^\\\\^127^\\\\^, ^\\\\^Chromium^\\\\^;v=^\\\\^127^\\\\^^',\n",
        "    'sec-ch-ua-mobile': '?0',\n",
        "    '^sec-ch-ua-platform': '^\\\\^Windows^\\\\^^',\n",
        "    'sec-fetch-dest': 'empty',\n",
        "    'sec-fetch-mode': 'cors',\n",
        "    'sec-fetch-site': 'same-origin',\n",
        "    'sec-gpc': '1',\n",
        "    'user-agent': 'Mozilla/5.0 (Windows NT 10.0; Win64; x64) AppleWebKit/537.36 (KHTML, like Gecko) Chrome/127.0.0.0 Safari/537.36',\n",
        "    'x-guest-token': 'sGXVTeHDn9da0MgmvSpQcN5PLWlrAZ7C',\n",
        "}\n",
        "\n",
        "params = (\n",
        "    ('platform', 'web'),\n",
        "    ('spid', '214168963'),\n",
        "    ('version', '3'),\n",
        ")\n",
        "\n",
        "response = requests.get('https://tiki.vn/api/v2/products/214168962', headers=headers, params=params)\n",
        "\n",
        "#NB. Original query string below. It seems impossible to parse and\n",
        "#reproduce query strings 100% accurately so the one below is given\n",
        "#in case the reproduced version is not \"correct\".\n",
        "# response = requests.get('https://tiki.vn/api/v2/products/214168962?platform=web&spid=214168963&version=3', headers=headers)\n"
      ]
    },
    {
      "cell_type": "code",
      "execution_count": null,
      "metadata": {
        "id": "f3mfiViruwM3"
      },
      "outputs": [],
      "source": [
        "def parser_product(json):\n",
        "    d = dict()\n",
        "    d['id'] = json.get('id')\n",
        "    d['quantity_sold'] = json.get('all_time_quantity_sold')\n",
        "\n",
        "    return d"
      ]
    },
    {
      "cell_type": "markdown",
      "metadata": {
        "id": "X1bSGgfgKxZ3"
      },
      "source": [
        "# ***`Crawling data `***"
      ]
    },
    {
      "cell_type": "code",
      "execution_count": null,
      "metadata": {
        "colab": {
          "base_uri": "https://localhost:8080/"
        },
        "collapsed": true,
        "id": "H60FVIshiwkJ",
        "outputId": "d5cb1464-5f52-4bd4-c714-988dda24836f"
      },
      "outputs": [
        {
          "name": "stdout",
          "output_type": "stream",
          "text": [
            "      Source.Name         id          id2  quantity_sold_new  \\\n",
            "20000  File2.xlsx  179562656  179562656.0                2.0   \n",
            "20001  File2.xlsx  178316505  178316505.0                NaN   \n",
            "20002  File2.xlsx   93068708   93068708.0                9.0   \n",
            "20003  File2.xlsx   93009788   93009788.0                NaN   \n",
            "20004  File2.xlsx  103753899  103753899.0                1.0   \n",
            "...           ...        ...          ...                ...   \n",
            "21099  File2.xlsx  270791815  270791815.0                6.0   \n",
            "21100  File2.xlsx  216401387  216401387.0                5.0   \n",
            "21101  File2.xlsx  270791335  270791335.0                9.0   \n",
            "21102  File2.xlsx  272224450  272224450.0                1.0   \n",
            "21103  File2.xlsx  186627908  186627908.0             2240.0   \n",
            "\n",
            "       quantity_sold_old                                               name  \\\n",
            "20000                2.0  Thanh lý giày lười nam DONAVY cao cấp đế cao 3...   \n",
            "20001                NaN  Dép Quai Ngang Nam Da DONAVY Kiểu Quai Con Ngự...   \n",
            "20002                9.0  GIÀY LƯỜI NAM DA BÒ 100%, KIỂU SA-BO CAO CẤP, ...   \n",
            "20003                NaN  DÉP DA BÒ QUAI NGANG NAM, THIẾT KẾ KIỂU CHỮ V ...   \n",
            "20004                1.0  GIÀY LƯỜI NAM DA BÒ 100%, ĐÍNH KHUY R CAO CẤP,...   \n",
            "...                  ...                                                ...   \n",
            "21099                5.0  Dép đúc siêu nhẹ nam, nữ DUWA - Hàng chính hãn...   \n",
            "21100                5.0  Dép xỏ ngón nam, nữ siêu nhẹ DUWA - Hàng chính...   \n",
            "21101                9.0  Dép đúc siêu nhẹ nam, nữ DUWA - Hàng chính hãn...   \n",
            "21102                1.0  Dép quai ngang nam, nữ siêu nhẹ DUWA - Hàng ch...   \n",
            "21103             2217.0  Ghế Gác Chân Công Thái Học Ergonomic Footrest,...   \n",
            "\n",
            "        price  rating_average  review_count          categories  ...  \\\n",
            "20000  169000             5.0             1    Giày lười da nam  ...   \n",
            "20001  169000             0.0             0  Dép nam quai ngang  ...   \n",
            "20002  329000             5.0             1    Giày lười da nam  ...   \n",
            "20003  229000             0.0             0  Dép nam quai ngang  ...   \n",
            "20004  449000             5.0             1    Giày lười da nam  ...   \n",
            "...       ...             ...           ...                 ...  ...   \n",
            "21099   88500             5.0             1  Dép nam quai ngang  ...   \n",
            "21100   79500             5.0             2     Dép nam xỏ ngón  ...   \n",
            "21101   88500             4.7             6      Giày - Dép nam  ...   \n",
            "21102   88500             0.0             0  Dép nam quai ngang  ...   \n",
            "21103  189000             4.8           300  Nhà Cửa - Đời Sống  ...   \n",
            "\n",
            "                    85               86               87               88  \\\n",
            "20000              NaN              NaN              NaN              NaN   \n",
            "20001              NaN              NaN              NaN              NaN   \n",
            "20002              NaN              NaN              NaN              NaN   \n",
            "20003              NaN              NaN              NaN              NaN   \n",
            "20004              NaN              NaN              NaN              NaN   \n",
            "...                ...              ...              ...              ...   \n",
            "21099              NaN              NaN              NaN              NaN   \n",
            "21100              NaN              NaN              NaN              NaN   \n",
            "21101              NaN              NaN              NaN              NaN   \n",
            "21102              NaN              NaN              NaN              NaN   \n",
            "21103  {'content': ''}  {'content': ''}  {'content': ''}  {'content': ''}   \n",
            "\n",
            "                    89               90  \\\n",
            "20000              NaN              NaN   \n",
            "20001              NaN              NaN   \n",
            "20002              NaN              NaN   \n",
            "20003              NaN              NaN   \n",
            "20004              NaN              NaN   \n",
            "...                ...              ...   \n",
            "21099              NaN              NaN   \n",
            "21100              NaN              NaN   \n",
            "21101              NaN              NaN   \n",
            "21102              NaN              NaN   \n",
            "21103  {'content': ''}  {'content': ''}   \n",
            "\n",
            "                                                      91  \\\n",
            "20000                                                NaN   \n",
            "20001                                                NaN   \n",
            "20002                                                NaN   \n",
            "20003                                                NaN   \n",
            "20004                                                NaN   \n",
            "...                                                  ...   \n",
            "21099                                                NaN   \n",
            "21100                                                NaN   \n",
            "21101                                                NaN   \n",
            "21102                                                NaN   \n",
            "21103  {'content': 'Giao nhanh như chớp, hàng nhựa nh...   \n",
            "\n",
            "                               92               93               94  \n",
            "20000                         NaN              NaN              NaN  \n",
            "20001                         NaN              NaN              NaN  \n",
            "20002                         NaN              NaN              NaN  \n",
            "20003                         NaN              NaN              NaN  \n",
            "20004                         NaN              NaN              NaN  \n",
            "...                           ...              ...              ...  \n",
            "21099                         NaN              NaN              NaN  \n",
            "21100                         NaN              NaN              NaN  \n",
            "21101                         NaN              NaN              NaN  \n",
            "21102                         NaN              NaN              NaN  \n",
            "21103  {'content': 'Chất liệu 👌'}  {'content': ''}  {'content': ''}  \n",
            "\n",
            "[1104 rows x 108 columns]\n"
          ]
        },
        {
          "data": {
            "text/plain": [
              "[179562656, 178316505, 93068708, 93009788, 103753899]"
            ]
          },
          "execution_count": 45,
          "metadata": {},
          "output_type": "execute_result"
        }
      ],
      "source": [
        "df_id = df.iloc[:]\n",
        "print(df_id)\n",
        "p_ids = df_id.id.to_list()\n",
        "p_ids = [int(x) for x in p_ids]\n",
        "p_ids[:5]"
      ]
    },
    {
      "cell_type": "markdown",
      "metadata": {
        "id": "FjhzcpKHK6_M"
      },
      "source": [
        "# ***`Fill in blank data`***"
      ]
    },
    {
      "cell_type": "code",
      "execution_count": null,
      "metadata": {
        "colab": {
          "background_save": true
        },
        "id": "tGbaRryWIqVH",
        "outputId": "c8c8d73e-87a4-471a-c048-c32652e0b919"
      },
      "outputs": [
        {
          "name": "stdout",
          "output_type": "stream",
          "text": [
            "[32725930]\n"
          ]
        }
      ],
      "source": [
        "# Filter variance which has \"id2\" is\n",
        "df_id = df.iloc[15000:15000]\n",
        "df_null_id2 = df_id[df_id[\"id2\"].isnull()]\n",
        "\n",
        "# If there are any rows where 'id2' is null\n",
        "if not df_null_id2.empty:\n",
        "    # Convert the \"id\" column of these rows to a list of integers\n",
        "    p_ids = df_null_id2[\"id\"].tolist()\n",
        "    # Use a loop to check and handle NaN values\n",
        "    new_p_ids = []\n",
        "    for x in p_ids:\n",
        "        if pd.notna(x): # Check if x is not NaN\n",
        "            new_p_ids.append(int(x))\n",
        "    p_ids = new_p_ids\n",
        "\n",
        "    # Print the first 5 elements (or fewer if there are less than 5)\n",
        "    print(p_ids[:5])"
      ]
    },
    {
      "cell_type": "code",
      "execution_count": null,
      "metadata": {
        "colab": {
          "base_uri": "https://localhost:8080/"
        },
        "id": "mI92ifErjGsw",
        "outputId": "5ce88382-a7a0-425b-ee7c-05edea75a3c0"
      },
      "outputs": [
        {
          "name": "stderr",
          "output_type": "stream",
          "text": [
            " 33%|███▎      | 1/3 [00:00<00:00,  4.01it/s]"
          ]
        },
        {
          "name": "stdout",
          "output_type": "stream",
          "text": [
            "Request failed for product ID 274192275 with status code: 404\n"
          ]
        },
        {
          "name": "stderr",
          "output_type": "stream",
          "text": [
            "\r 67%|██████▋   | 2/3 [00:00<00:00,  2.53it/s]"
          ]
        },
        {
          "name": "stdout",
          "output_type": "stream",
          "text": [
            "Request failed for product ID 274180359 with status code: 404\n"
          ]
        },
        {
          "name": "stderr",
          "output_type": "stream",
          "text": [
            "100%|██████████| 3/3 [00:00<00:00,  3.02it/s]"
          ]
        },
        {
          "name": "stdout",
          "output_type": "stream",
          "text": [
            "Request failed for product ID 1066164 with status code: 404\n"
          ]
        },
        {
          "name": "stderr",
          "output_type": "stream",
          "text": [
            "\n"
          ]
        }
      ],
      "source": [
        "result = []\n",
        "for pid in tqdm(p_ids, total=len(p_ids)):\n",
        "    response = requests.get('https://tiki.vn/api/v2/products/{}'.format(pid), headers=headers, params=params)\n",
        "    if response.status_code == 200:\n",
        "        try:\n",
        "            result.append(parser_product(response.json()))\n",
        "        except ValueError as e:  # Handle potential JSONDecodeError\n",
        "            print(f\"Error decoding JSON for product ID {pid}: {e}\")\n",
        "    else:\n",
        "        print(f\"Request failed for product ID {pid} with status code: {response.status_code}\")\n",
        "\n",
        "df_product = pd.DataFrame(result)\n",
        "df_product.to_excel('/content/drive/MyDrive/Colab Notebooks/nhap1.xlsx')"
      ]
    },
    {
      "cell_type": "markdown",
      "metadata": {
        "id": "ETRjWHx-Yf2J"
      },
      "source": [
        "# ***`Merge `***"
      ]
    },
    {
      "cell_type": "code",
      "execution_count": null,
      "metadata": {
        "colab": {
          "base_uri": "https://localhost:8080/"
        },
        "collapsed": true,
        "id": "gORj0qdyYnic",
        "outputId": "572bd7fb-1739-4360-8fc9-e586542dbfab"
      },
      "outputs": [
        {
          "name": "stdout",
          "output_type": "stream",
          "text": [
            "      Source.Name        id  id2  quantity_sold_new  quantity_sold_old  \\\n",
            "60000  File5.xlsx   2683363  NaN                NaN               44.0   \n",
            "60001  File5.xlsx  44573182  NaN                NaN                4.0   \n",
            "60002  File5.xlsx   2507979  NaN                NaN               10.0   \n",
            "60003  File5.xlsx   1994753  NaN                NaN                2.0   \n",
            "60004  File5.xlsx   2000679  NaN                NaN                4.0   \n",
            "\n",
            "                                                    name    price  \\\n",
            "60000        Giày Boot Nữ Cột Dây Huy Hoàng HT7920 - Đen   999000   \n",
            "60001                    Giày nữ Huy Hoàng màu đỏ HT7065   489000   \n",
            "60002   Dây Đồng Hồ Da Cá Sấu Huy Hoàng HT8202 - Nâu Đất   279000   \n",
            "60003  Thắt Lưng Nam Da Cá Sấu Gai Bụng Huy Hoàng HT4...  1099000   \n",
            "60004  Ví Nam Da Trăn Nguyên Thủy Kiểu Đứng Huy Hoàng...   599000   \n",
            "\n",
            "       rating_average  review_count               categories  ...   85   86  \\\n",
            "60000             4.0             1               Thời Trang  ...  NaN  NaN   \n",
            "60001             5.0             1            Giày - Dép nữ  ...  NaN  NaN   \n",
            "60002             4.3             3               Thời Trang  ...  NaN  NaN   \n",
            "60003             3.0             1  Dây thắt lưng - Dây nịt  ...  NaN  NaN   \n",
            "60004             5.0             1              Ví nam đứng  ...  NaN  NaN   \n",
            "\n",
            "        87   88   89   90   91   92   93   94  \n",
            "60000  NaN  NaN  NaN  NaN  NaN  NaN  NaN  NaN  \n",
            "60001  NaN  NaN  NaN  NaN  NaN  NaN  NaN  NaN  \n",
            "60002  NaN  NaN  NaN  NaN  NaN  NaN  NaN  NaN  \n",
            "60003  NaN  NaN  NaN  NaN  NaN  NaN  NaN  NaN  \n",
            "60004  NaN  NaN  NaN  NaN  NaN  NaN  NaN  NaN  \n",
            "\n",
            "[5 rows x 108 columns]\n",
            "   Unnamed: 0        id  quantity_sold\n",
            "0           0   2683363           44.0\n",
            "1           1  44573182            4.0\n",
            "2           2   2507979           10.0\n",
            "3           3   1994753            7.0\n",
            "4           4   2000679            NaN\n"
          ]
        }
      ],
      "source": [
        "df_id = df.iloc[60000:65000]\n",
        "print(df_id.head(5))\n",
        "df_fill_blank = pd.read_excel('/content/drive/MyDrive/Colab Notebooks/nhap1.xlsx')\n",
        "print(df_fill_blank.head(5))"
      ]
    },
    {
      "cell_type": "code",
      "execution_count": null,
      "metadata": {
        "colab": {
          "base_uri": "https://localhost:8080/"
        },
        "id": "-wJYy9rqcNXd",
        "outputId": "ea9c7bc9-e8c4-4670-82a6-ff27e747fc90",
        "collapsed": true
      },
      "outputs": [
        {
          "name": "stdout",
          "output_type": "stream",
          "text": [
            "      Source.Name         id          id2  quantity_sold_new  \\\n",
            "60000  File5.xlsx    2683363    2683363.0               44.0   \n",
            "60001  File5.xlsx   44573182   44573182.0                4.0   \n",
            "60002  File5.xlsx    2507979    2507979.0               10.0   \n",
            "60003  File5.xlsx    1994753    1994753.0                7.0   \n",
            "60004  File5.xlsx    2000679    2000679.0                NaN   \n",
            "...           ...        ...          ...                ...   \n",
            "63761  File5.xlsx   15271684   15271684.0                NaN   \n",
            "63762  File5.xlsx  192447521  192447521.0                NaN   \n",
            "63763  File5.xlsx  202879719  202879719.0                2.0   \n",
            "63764  File5.xlsx  208073919  208073919.0                NaN   \n",
            "63765  File5.xlsx  189474023  189474023.0              524.0   \n",
            "\n",
            "       quantity_sold_old                                               name  \\\n",
            "60000               44.0        Giày Boot Nữ Cột Dây Huy Hoàng HT7920 - Đen   \n",
            "60001                4.0                    Giày nữ Huy Hoàng màu đỏ HT7065   \n",
            "60002               10.0   Dây Đồng Hồ Da Cá Sấu Huy Hoàng HT8202 - Nâu Đất   \n",
            "60003                2.0  Thắt Lưng Nam Da Cá Sấu Gai Bụng Huy Hoàng HT4...   \n",
            "60004                4.0  Ví Nam Da Trăn Nguyên Thủy Kiểu Đứng Huy Hoàng...   \n",
            "...                  ...                                                ...   \n",
            "63761                NaN  Cóc sạc Remax WK WP-U52 Cheetah hỗ trợ sạc nha...   \n",
            "63762                NaN  Cáp sạc nhanh 2.4A Type C 1m và truyền dữ liệu...   \n",
            "63763                2.0  Pin sạc dự phòng 40000mAh 65W PD QC Remax RPP-...   \n",
            "63764                NaN  Pin dự phòng PD20W QC22.5W dung lượng 10000mAh...   \n",
            "63765              507.0  Sạc dự phòng không dây từ tính Remax RPP-65 10...   \n",
            "\n",
            "         price  rating_average  review_count                 categories  ...  \\\n",
            "60000   999000             4.0             1                 Thời Trang  ...   \n",
            "60001   489000             5.0             1              Giày - Dép nữ  ...   \n",
            "60002   279000             4.3             3                 Thời Trang  ...   \n",
            "60003  1099000             3.0             1    Dây thắt lưng - Dây nịt  ...   \n",
            "60004   599000             5.0             1                Ví nam đứng  ...   \n",
            "...        ...             ...           ...                        ...  ...   \n",
            "63761   122000             0.0             0  Thiết Bị Số - Phụ Kiện Số  ...   \n",
            "63762    50000             0.0             0     Dây Cáp Sạc USB Type-C  ...   \n",
            "63763  1241000             0.0             0   Pin Sạc Dự Phòng Di Động  ...   \n",
            "63764   352000             0.0             0   Pin Sạc Dự Phòng Di Động  ...   \n",
            "63765   690000             4.5           110   Pin Sạc Dự Phòng Di Động  ...   \n",
            "\n",
            "        85   86   87   88   89   90   91   92   93   94  \n",
            "60000  NaN  NaN  NaN  NaN  NaN  NaN  NaN  NaN  NaN  NaN  \n",
            "60001  NaN  NaN  NaN  NaN  NaN  NaN  NaN  NaN  NaN  NaN  \n",
            "60002  NaN  NaN  NaN  NaN  NaN  NaN  NaN  NaN  NaN  NaN  \n",
            "60003  NaN  NaN  NaN  NaN  NaN  NaN  NaN  NaN  NaN  NaN  \n",
            "60004  NaN  NaN  NaN  NaN  NaN  NaN  NaN  NaN  NaN  NaN  \n",
            "...    ...  ...  ...  ...  ...  ...  ...  ...  ...  ...  \n",
            "63761  NaN  NaN  NaN  NaN  NaN  NaN  NaN  NaN  NaN  NaN  \n",
            "63762  NaN  NaN  NaN  NaN  NaN  NaN  NaN  NaN  NaN  NaN  \n",
            "63763  NaN  NaN  NaN  NaN  NaN  NaN  NaN  NaN  NaN  NaN  \n",
            "63764  NaN  NaN  NaN  NaN  NaN  NaN  NaN  NaN  NaN  NaN  \n",
            "63765  NaN  NaN  NaN  NaN  NaN  NaN  NaN  NaN  NaN  NaN  \n",
            "\n",
            "[3766 rows x 108 columns]\n"
          ]
        }
      ],
      "source": [
        "# Iterate through df_fill_blank and update df_id\n",
        "for index, row in df_fill_blank.iterrows():\n",
        "    mask = df_id['id'] == row['id']\n",
        "    df_id.loc[mask, 'id2'] = row['id']\n",
        "    df_id.loc[mask, 'quantity_sold_new'] = row['quantity_sold']\n",
        "\n",
        "# Display the updated df_id\n",
        "print(df_id)"
      ]
    },
    {
      "cell_type": "code",
      "execution_count": null,
      "metadata": {
        "colab": {
          "base_uri": "https://localhost:8080/"
        },
        "id": "xBsUe-8GM5DJ",
        "outputId": "50c8bc87-a9f8-4d69-c042-d800640d8826",
        "collapsed": true
      },
      "outputs": [
        {
          "name": "stdout",
          "output_type": "stream",
          "text": [
            "      Source.Name         id          id2  quantity_sold_new  \\\n",
            "60000  File5.xlsx    2683363    2683363.0               44.0   \n",
            "60001  File5.xlsx   44573182   44573182.0                4.0   \n",
            "60002  File5.xlsx    2507979    2507979.0               10.0   \n",
            "60003  File5.xlsx    1994753    1994753.0                7.0   \n",
            "60004  File5.xlsx    2000679    2000679.0                NaN   \n",
            "...           ...        ...          ...                ...   \n",
            "63761  File5.xlsx   15271684   15271684.0                NaN   \n",
            "63762  File5.xlsx  192447521  192447521.0                NaN   \n",
            "63763  File5.xlsx  202879719  202879719.0                2.0   \n",
            "63764  File5.xlsx  208073919  208073919.0                NaN   \n",
            "63765  File5.xlsx  189474023  189474023.0              524.0   \n",
            "\n",
            "       quantity_sold_old                                               name  \\\n",
            "60000               44.0        Giày Boot Nữ Cột Dây Huy Hoàng HT7920 - Đen   \n",
            "60001                4.0                    Giày nữ Huy Hoàng màu đỏ HT7065   \n",
            "60002               10.0   Dây Đồng Hồ Da Cá Sấu Huy Hoàng HT8202 - Nâu Đất   \n",
            "60003                2.0  Thắt Lưng Nam Da Cá Sấu Gai Bụng Huy Hoàng HT4...   \n",
            "60004                4.0  Ví Nam Da Trăn Nguyên Thủy Kiểu Đứng Huy Hoàng...   \n",
            "...                  ...                                                ...   \n",
            "63761                NaN  Cóc sạc Remax WK WP-U52 Cheetah hỗ trợ sạc nha...   \n",
            "63762                NaN  Cáp sạc nhanh 2.4A Type C 1m và truyền dữ liệu...   \n",
            "63763                2.0  Pin sạc dự phòng 40000mAh 65W PD QC Remax RPP-...   \n",
            "63764                NaN  Pin dự phòng PD20W QC22.5W dung lượng 10000mAh...   \n",
            "63765              507.0  Sạc dự phòng không dây từ tính Remax RPP-65 10...   \n",
            "\n",
            "         price  rating_average  review_count                 categories  \\\n",
            "60000   999000             4.0             1                 Thời Trang   \n",
            "60001   489000             5.0             1              Giày - Dép nữ   \n",
            "60002   279000             4.3             3                 Thời Trang   \n",
            "60003  1099000             3.0             1    Dây thắt lưng - Dây nịt   \n",
            "60004   599000             5.0             1                Ví nam đứng   \n",
            "...        ...             ...           ...                        ...   \n",
            "63761   122000             0.0             0  Thiết Bị Số - Phụ Kiện Số   \n",
            "63762    50000             0.0             0     Dây Cáp Sạc USB Type-C   \n",
            "63763  1241000             0.0             0   Pin Sạc Dự Phòng Di Động   \n",
            "63764   352000             0.0             0   Pin Sạc Dự Phòng Di Động   \n",
            "63765   690000             4.5           110   Pin Sạc Dự Phòng Di Động   \n",
            "\n",
            "                      Name_Shop  positive  negative  \n",
            "60000  Huy Hoang Official Store         1         0  \n",
            "60001  Huy Hoang Official Store         1         0  \n",
            "60002  Huy Hoang Official Store         1         0  \n",
            "60003  Huy Hoang Official Store         2         0  \n",
            "60004  Huy Hoang Official Store         1         0  \n",
            "...                         ...       ...       ...  \n",
            "63761                  HolaHola         0         0  \n",
            "63762                  HolaHola         0         0  \n",
            "63763                  HolaHola         0         0  \n",
            "63764                  HolaHola         0         0  \n",
            "63765                  HolaHola         0         0  \n",
            "\n",
            "[3766 rows x 13 columns]\n"
          ]
        }
      ],
      "source": [
        "df_new = df_id.iloc[:, :13]\n",
        "print(df_new)"
      ]
    },
    {
      "cell_type": "code",
      "execution_count": null,
      "metadata": {
        "id": "nEvxtf5pY1GX"
      },
      "outputs": [],
      "source": [
        "df_new.to_excel('/content/drive/MyDrive/Colab Notebooks/nhap10.xlsx')"
      ]
    },
    {
      "cell_type": "markdown",
      "source": [
        "# ***`Basic Preprocessing`***"
      ],
      "metadata": {
        "id": "DjWzh9DvQRQI"
      }
    },
    {
      "cell_type": "markdown",
      "metadata": {
        "id": "uKbkqUzudzlC"
      },
      "source": [
        "# ***`Remove White Space (df_combined_all)`***"
      ]
    },
    {
      "cell_type": "code",
      "execution_count": null,
      "metadata": {
        "id": "M_Skp_oKghqp"
      },
      "outputs": [],
      "source": [
        "df_combined_all = pd.read_excel('/content/drive/MyDrive/Colab Notebooks/Dataset TIki/df_combined_all.xlsx')"
      ]
    },
    {
      "cell_type": "code",
      "execution_count": null,
      "metadata": {
        "colab": {
          "base_uri": "https://localhost:8080/",
          "height": 207
        },
        "id": "NnxYQ0Tud8_A",
        "outputId": "ebae3c8a-d2f4-44f7-f4b3-fc3c7fd039dc"
      },
      "outputs": [
        {
          "data": {
            "application/vnd.google.colaboratory.intrinsic+json": {
              "summary": "{\n  \"name\": \"df_combined_all\",\n  \"rows\": 942,\n  \"fields\": [\n    {\n      \"column\": \"id\",\n      \"properties\": {\n        \"dtype\": \"string\",\n        \"num_unique_values\": 898,\n        \"samples\": [\n          77754,\n          40753,\n          268883\n        ],\n        \"semantic_type\": \"\",\n        \"description\": \"\"\n      }\n    },\n    {\n      \"column\": \"link\",\n      \"properties\": {\n        \"dtype\": \"string\",\n        \"num_unique_values\": 896,\n        \"samples\": [\n          \"https://tiki.vn/cua-hang/venie\",\n          \"https://tiki.vn/cua-hang/may-chieu-nh-projector\",\n          \"https://tiki.vn/cua-hang/bilaha-store\"\n        ],\n        \"semantic_type\": \"\",\n        \"description\": \"\"\n      }\n    },\n    {\n      \"column\": \"name\",\n      \"properties\": {\n        \"dtype\": \"string\",\n        \"num_unique_values\": 897,\n        \"samples\": [\n          \"ERA MALL\",\n          \"\\u0110\\u1ed2NG H\\u1ed2 KIM\",\n          \"D\\u1ee4NG C\\u1ee4 Y KHOA B\\u00c1 KHANG\"\n        ],\n        \"semantic_type\": \"\",\n        \"description\": \"\"\n      }\n    },\n    {\n      \"column\": \"Unnamed: 3\",\n      \"properties\": {\n        \"dtype\": \"category\",\n        \"num_unique_values\": 21,\n        \"samples\": [\n          \"file 1\",\n          \"---------\",\n          \"------------\"\n        ],\n        \"semantic_type\": \"\",\n        \"description\": \"\"\n      }\n    },\n    {\n      \"column\": \"Unnamed: 4\",\n      \"properties\": {\n        \"dtype\": \"category\",\n        \"num_unique_values\": 3,\n        \"samples\": [\n          \"done\",\n          \"kh co sp\",\n          \"thi\\u1ebfu comments\"\n        ],\n        \"semantic_type\": \"\",\n        \"description\": \"\"\n      }\n    },\n    {\n      \"column\": \"Date\",\n      \"properties\": {\n        \"dtype\": \"category\",\n        \"num_unique_values\": 14,\n        \"samples\": [\n          \"30/07/2024\",\n          \"2024-01-08 00:00:00\",\n          \"18/07/2024\"\n        ],\n        \"semantic_type\": \"\",\n        \"description\": \"\"\n      }\n    },\n    {\n      \"column\": \"Unnamed: 6\",\n      \"properties\": {\n        \"dtype\": \"category\",\n        \"num_unique_values\": 1,\n        \"samples\": [\n          \"-\"\n        ],\n        \"semantic_type\": \"\",\n        \"description\": \"\"\n      }\n    },\n    {\n      \"column\": \"Year_Joined\",\n      \"properties\": {\n        \"dtype\": \"number\",\n        \"std\": 489,\n        \"min\": 0,\n        \"max\": 2024,\n        \"num_unique_values\": 9,\n        \"samples\": [\n          2024\n        ],\n        \"semantic_type\": \"\",\n        \"description\": \"\"\n      }\n    },\n    {\n      \"column\": \"Shop_Rating\",\n      \"properties\": {\n        \"dtype\": \"number\",\n        \"std\": 0.23887836202280854,\n        \"min\": 2.5,\n        \"max\": 5.0,\n        \"num_unique_values\": 19,\n        \"samples\": [\n          4.7\n        ],\n        \"semantic_type\": \"\",\n        \"description\": \"\"\n      }\n    },\n    {\n      \"column\": \"Counter_Rating\",\n      \"properties\": {\n        \"dtype\": \"number\",\n        \"std\": 4770,\n        \"min\": 0,\n        \"max\": 38000,\n        \"num_unique_values\": 404,\n        \"samples\": [\n          9900\n        ],\n        \"semantic_type\": \"\",\n        \"description\": \"\"\n      }\n    },\n    {\n      \"column\": \"Followers\",\n      \"properties\": {\n        \"dtype\": \"number\",\n        \"std\": 2919,\n        \"min\": 0,\n        \"max\": 36317,\n        \"num_unique_values\": 672,\n        \"samples\": [\n          421\n        ],\n        \"semantic_type\": \"\",\n        \"description\": \"\"\n      }\n    },\n    {\n      \"column\": \"Chat Resopnse\",\n      \"properties\": {\n        \"dtype\": \"number\",\n        \"std\": 42,\n        \"min\": 0,\n        \"max\": 100,\n        \"num_unique_values\": 39,\n        \"samples\": [\n          69\n        ],\n        \"semantic_type\": \"\",\n        \"description\": \"\"\n      }\n    }\n  ]\n}",
              "type": "dataframe",
              "variable_name": "df_combined_all"
            },
            "text/html": [
              "\n",
              "  <div id=\"df-a077a3ee-f1d4-4d6a-991d-0010098de80d\" class=\"colab-df-container\">\n",
              "    <div>\n",
              "<style scoped>\n",
              "    .dataframe tbody tr th:only-of-type {\n",
              "        vertical-align: middle;\n",
              "    }\n",
              "\n",
              "    .dataframe tbody tr th {\n",
              "        vertical-align: top;\n",
              "    }\n",
              "\n",
              "    .dataframe thead th {\n",
              "        text-align: right;\n",
              "    }\n",
              "</style>\n",
              "<table border=\"1\" class=\"dataframe\">\n",
              "  <thead>\n",
              "    <tr style=\"text-align: right;\">\n",
              "      <th></th>\n",
              "      <th>id</th>\n",
              "      <th>link</th>\n",
              "      <th>name</th>\n",
              "      <th>Unnamed: 3</th>\n",
              "      <th>Unnamed: 4</th>\n",
              "      <th>Date</th>\n",
              "      <th>Unnamed: 6</th>\n",
              "      <th>Year_Joined</th>\n",
              "      <th>Shop_Rating</th>\n",
              "      <th>Counter_Rating</th>\n",
              "      <th>Followers</th>\n",
              "      <th>Chat Resopnse</th>\n",
              "    </tr>\n",
              "  </thead>\n",
              "  <tbody>\n",
              "    <tr>\n",
              "      <th>0</th>\n",
              "      <td>38963</td>\n",
              "      <td>https://tiki.vn/cua-hang/techmorevn</td>\n",
              "      <td>Techmorevn</td>\n",
              "      <td>NaN</td>\n",
              "      <td>done</td>\n",
              "      <td>18/07/2024</td>\n",
              "      <td>NaN</td>\n",
              "      <td>2019</td>\n",
              "      <td>4.7</td>\n",
              "      <td>1600</td>\n",
              "      <td>693</td>\n",
              "      <td>91</td>\n",
              "    </tr>\n",
              "    <tr>\n",
              "      <th>1</th>\n",
              "      <td>235971</td>\n",
              "      <td>https://tiki.vn/cua-hang/vivo-official-store</td>\n",
              "      <td>vivo Official Store</td>\n",
              "      <td>NaN</td>\n",
              "      <td>done</td>\n",
              "      <td>NaN</td>\n",
              "      <td>NaN</td>\n",
              "      <td>2021</td>\n",
              "      <td>4.6</td>\n",
              "      <td>44</td>\n",
              "      <td>443</td>\n",
              "      <td>0</td>\n",
              "    </tr>\n",
              "    <tr>\n",
              "      <th>2</th>\n",
              "      <td>113592</td>\n",
              "      <td>https://tiki.vn/cua-hang/vien-thong-ha-nhung</td>\n",
              "      <td>Viễn thông Hà Nhung</td>\n",
              "      <td>NaN</td>\n",
              "      <td>done</td>\n",
              "      <td>NaN</td>\n",
              "      <td>NaN</td>\n",
              "      <td>2022</td>\n",
              "      <td>4.9</td>\n",
              "      <td>390</td>\n",
              "      <td>114</td>\n",
              "      <td>86</td>\n",
              "    </tr>\n",
              "    <tr>\n",
              "      <th>3</th>\n",
              "      <td>106499</td>\n",
              "      <td>https://tiki.vn/cua-hang/shop-may-doc-sach-ha-noi</td>\n",
              "      <td>Shop Máy Đọc Sách Hà Nội</td>\n",
              "      <td>NaN</td>\n",
              "      <td>done</td>\n",
              "      <td>NaN</td>\n",
              "      <td>NaN</td>\n",
              "      <td>2020</td>\n",
              "      <td>4.8</td>\n",
              "      <td>877</td>\n",
              "      <td>499</td>\n",
              "      <td>0</td>\n",
              "    </tr>\n",
              "    <tr>\n",
              "      <th>4</th>\n",
              "      <td>29952</td>\n",
              "      <td>https://tiki.vn/cua-hang/hong-hanh-mobile</td>\n",
              "      <td>Hồng Hạnh Mobile</td>\n",
              "      <td>file 1</td>\n",
              "      <td>done</td>\n",
              "      <td>NaN</td>\n",
              "      <td>NaN</td>\n",
              "      <td>2019</td>\n",
              "      <td>4.7</td>\n",
              "      <td>2800</td>\n",
              "      <td>15108</td>\n",
              "      <td>100</td>\n",
              "    </tr>\n",
              "  </tbody>\n",
              "</table>\n",
              "</div>\n",
              "    <div class=\"colab-df-buttons\">\n",
              "\n",
              "  <div class=\"colab-df-container\">\n",
              "    <button class=\"colab-df-convert\" onclick=\"convertToInteractive('df-a077a3ee-f1d4-4d6a-991d-0010098de80d')\"\n",
              "            title=\"Convert this dataframe to an interactive table.\"\n",
              "            style=\"display:none;\">\n",
              "\n",
              "  <svg xmlns=\"http://www.w3.org/2000/svg\" height=\"24px\" viewBox=\"0 -960 960 960\">\n",
              "    <path d=\"M120-120v-720h720v720H120Zm60-500h600v-160H180v160Zm220 220h160v-160H400v160Zm0 220h160v-160H400v160ZM180-400h160v-160H180v160Zm440 0h160v-160H620v160ZM180-180h160v-160H180v160Zm440 0h160v-160H620v160Z\"/>\n",
              "  </svg>\n",
              "    </button>\n",
              "\n",
              "  <style>\n",
              "    .colab-df-container {\n",
              "      display:flex;\n",
              "      gap: 12px;\n",
              "    }\n",
              "\n",
              "    .colab-df-convert {\n",
              "      background-color: #E8F0FE;\n",
              "      border: none;\n",
              "      border-radius: 50%;\n",
              "      cursor: pointer;\n",
              "      display: none;\n",
              "      fill: #1967D2;\n",
              "      height: 32px;\n",
              "      padding: 0 0 0 0;\n",
              "      width: 32px;\n",
              "    }\n",
              "\n",
              "    .colab-df-convert:hover {\n",
              "      background-color: #E2EBFA;\n",
              "      box-shadow: 0px 1px 2px rgba(60, 64, 67, 0.3), 0px 1px 3px 1px rgba(60, 64, 67, 0.15);\n",
              "      fill: #174EA6;\n",
              "    }\n",
              "\n",
              "    .colab-df-buttons div {\n",
              "      margin-bottom: 4px;\n",
              "    }\n",
              "\n",
              "    [theme=dark] .colab-df-convert {\n",
              "      background-color: #3B4455;\n",
              "      fill: #D2E3FC;\n",
              "    }\n",
              "\n",
              "    [theme=dark] .colab-df-convert:hover {\n",
              "      background-color: #434B5C;\n",
              "      box-shadow: 0px 1px 3px 1px rgba(0, 0, 0, 0.15);\n",
              "      filter: drop-shadow(0px 1px 2px rgba(0, 0, 0, 0.3));\n",
              "      fill: #FFFFFF;\n",
              "    }\n",
              "  </style>\n",
              "\n",
              "    <script>\n",
              "      const buttonEl =\n",
              "        document.querySelector('#df-a077a3ee-f1d4-4d6a-991d-0010098de80d button.colab-df-convert');\n",
              "      buttonEl.style.display =\n",
              "        google.colab.kernel.accessAllowed ? 'block' : 'none';\n",
              "\n",
              "      async function convertToInteractive(key) {\n",
              "        const element = document.querySelector('#df-a077a3ee-f1d4-4d6a-991d-0010098de80d');\n",
              "        const dataTable =\n",
              "          await google.colab.kernel.invokeFunction('convertToInteractive',\n",
              "                                                    [key], {});\n",
              "        if (!dataTable) return;\n",
              "\n",
              "        const docLinkHtml = 'Like what you see? Visit the ' +\n",
              "          '<a target=\"_blank\" href=https://colab.research.google.com/notebooks/data_table.ipynb>data table notebook</a>'\n",
              "          + ' to learn more about interactive tables.';\n",
              "        element.innerHTML = '';\n",
              "        dataTable['output_type'] = 'display_data';\n",
              "        await google.colab.output.renderOutput(dataTable, element);\n",
              "        const docLink = document.createElement('div');\n",
              "        docLink.innerHTML = docLinkHtml;\n",
              "        element.appendChild(docLink);\n",
              "      }\n",
              "    </script>\n",
              "  </div>\n",
              "\n",
              "\n",
              "<div id=\"df-4ee2a65d-baa5-4600-9aa1-8eeaec106bd0\">\n",
              "  <button class=\"colab-df-quickchart\" onclick=\"quickchart('df-4ee2a65d-baa5-4600-9aa1-8eeaec106bd0')\"\n",
              "            title=\"Suggest charts\"\n",
              "            style=\"display:none;\">\n",
              "\n",
              "<svg xmlns=\"http://www.w3.org/2000/svg\" height=\"24px\"viewBox=\"0 0 24 24\"\n",
              "     width=\"24px\">\n",
              "    <g>\n",
              "        <path d=\"M19 3H5c-1.1 0-2 .9-2 2v14c0 1.1.9 2 2 2h14c1.1 0 2-.9 2-2V5c0-1.1-.9-2-2-2zM9 17H7v-7h2v7zm4 0h-2V7h2v10zm4 0h-2v-4h2v4z\"/>\n",
              "    </g>\n",
              "</svg>\n",
              "  </button>\n",
              "\n",
              "<style>\n",
              "  .colab-df-quickchart {\n",
              "      --bg-color: #E8F0FE;\n",
              "      --fill-color: #1967D2;\n",
              "      --hover-bg-color: #E2EBFA;\n",
              "      --hover-fill-color: #174EA6;\n",
              "      --disabled-fill-color: #AAA;\n",
              "      --disabled-bg-color: #DDD;\n",
              "  }\n",
              "\n",
              "  [theme=dark] .colab-df-quickchart {\n",
              "      --bg-color: #3B4455;\n",
              "      --fill-color: #D2E3FC;\n",
              "      --hover-bg-color: #434B5C;\n",
              "      --hover-fill-color: #FFFFFF;\n",
              "      --disabled-bg-color: #3B4455;\n",
              "      --disabled-fill-color: #666;\n",
              "  }\n",
              "\n",
              "  .colab-df-quickchart {\n",
              "    background-color: var(--bg-color);\n",
              "    border: none;\n",
              "    border-radius: 50%;\n",
              "    cursor: pointer;\n",
              "    display: none;\n",
              "    fill: var(--fill-color);\n",
              "    height: 32px;\n",
              "    padding: 0;\n",
              "    width: 32px;\n",
              "  }\n",
              "\n",
              "  .colab-df-quickchart:hover {\n",
              "    background-color: var(--hover-bg-color);\n",
              "    box-shadow: 0 1px 2px rgba(60, 64, 67, 0.3), 0 1px 3px 1px rgba(60, 64, 67, 0.15);\n",
              "    fill: var(--button-hover-fill-color);\n",
              "  }\n",
              "\n",
              "  .colab-df-quickchart-complete:disabled,\n",
              "  .colab-df-quickchart-complete:disabled:hover {\n",
              "    background-color: var(--disabled-bg-color);\n",
              "    fill: var(--disabled-fill-color);\n",
              "    box-shadow: none;\n",
              "  }\n",
              "\n",
              "  .colab-df-spinner {\n",
              "    border: 2px solid var(--fill-color);\n",
              "    border-color: transparent;\n",
              "    border-bottom-color: var(--fill-color);\n",
              "    animation:\n",
              "      spin 1s steps(1) infinite;\n",
              "  }\n",
              "\n",
              "  @keyframes spin {\n",
              "    0% {\n",
              "      border-color: transparent;\n",
              "      border-bottom-color: var(--fill-color);\n",
              "      border-left-color: var(--fill-color);\n",
              "    }\n",
              "    20% {\n",
              "      border-color: transparent;\n",
              "      border-left-color: var(--fill-color);\n",
              "      border-top-color: var(--fill-color);\n",
              "    }\n",
              "    30% {\n",
              "      border-color: transparent;\n",
              "      border-left-color: var(--fill-color);\n",
              "      border-top-color: var(--fill-color);\n",
              "      border-right-color: var(--fill-color);\n",
              "    }\n",
              "    40% {\n",
              "      border-color: transparent;\n",
              "      border-right-color: var(--fill-color);\n",
              "      border-top-color: var(--fill-color);\n",
              "    }\n",
              "    60% {\n",
              "      border-color: transparent;\n",
              "      border-right-color: var(--fill-color);\n",
              "    }\n",
              "    80% {\n",
              "      border-color: transparent;\n",
              "      border-right-color: var(--fill-color);\n",
              "      border-bottom-color: var(--fill-color);\n",
              "    }\n",
              "    90% {\n",
              "      border-color: transparent;\n",
              "      border-bottom-color: var(--fill-color);\n",
              "    }\n",
              "  }\n",
              "</style>\n",
              "\n",
              "  <script>\n",
              "    async function quickchart(key) {\n",
              "      const quickchartButtonEl =\n",
              "        document.querySelector('#' + key + ' button');\n",
              "      quickchartButtonEl.disabled = true;  // To prevent multiple clicks.\n",
              "      quickchartButtonEl.classList.add('colab-df-spinner');\n",
              "      try {\n",
              "        const charts = await google.colab.kernel.invokeFunction(\n",
              "            'suggestCharts', [key], {});\n",
              "      } catch (error) {\n",
              "        console.error('Error during call to suggestCharts:', error);\n",
              "      }\n",
              "      quickchartButtonEl.classList.remove('colab-df-spinner');\n",
              "      quickchartButtonEl.classList.add('colab-df-quickchart-complete');\n",
              "    }\n",
              "    (() => {\n",
              "      let quickchartButtonEl =\n",
              "        document.querySelector('#df-4ee2a65d-baa5-4600-9aa1-8eeaec106bd0 button');\n",
              "      quickchartButtonEl.style.display =\n",
              "        google.colab.kernel.accessAllowed ? 'block' : 'none';\n",
              "    })();\n",
              "  </script>\n",
              "</div>\n",
              "\n",
              "    </div>\n",
              "  </div>\n"
            ],
            "text/plain": [
              "       id                                               link  \\\n",
              "0   38963                https://tiki.vn/cua-hang/techmorevn   \n",
              "1  235971       https://tiki.vn/cua-hang/vivo-official-store   \n",
              "2  113592       https://tiki.vn/cua-hang/vien-thong-ha-nhung   \n",
              "3  106499  https://tiki.vn/cua-hang/shop-may-doc-sach-ha-noi   \n",
              "4   29952          https://tiki.vn/cua-hang/hong-hanh-mobile   \n",
              "\n",
              "                       name Unnamed: 3 Unnamed: 4        Date Unnamed: 6  \\\n",
              "0                Techmorevn        NaN       done  18/07/2024        NaN   \n",
              "1       vivo Official Store        NaN       done         NaN        NaN   \n",
              "2       Viễn thông Hà Nhung        NaN       done         NaN        NaN   \n",
              "3  Shop Máy Đọc Sách Hà Nội        NaN       done         NaN        NaN   \n",
              "4          Hồng Hạnh Mobile     file 1       done         NaN        NaN   \n",
              "\n",
              "   Year_Joined  Shop_Rating  Counter_Rating  Followers  Chat Resopnse  \n",
              "0         2019          4.7            1600        693             91  \n",
              "1         2021          4.6              44        443              0  \n",
              "2         2022          4.9             390        114             86  \n",
              "3         2020          4.8             877        499              0  \n",
              "4         2019          4.7            2800      15108            100  "
            ]
          },
          "execution_count": 6,
          "metadata": {},
          "output_type": "execute_result"
        }
      ],
      "source": [
        "df_combined_all.head(5)"
      ]
    },
    {
      "cell_type": "markdown",
      "metadata": {
        "id": "Dys1hT_k5TqV"
      },
      "source": [
        "# ***Chat Response***"
      ]
    },
    {
      "cell_type": "code",
      "execution_count": null,
      "metadata": {
        "colab": {
          "base_uri": "https://localhost:8080/"
        },
        "id": "W0DXginLeACw",
        "outputId": "6adb450b-e5da-4668-d89f-716051916eb7"
      },
      "outputs": [
        {
          "name": "stdout",
          "output_type": "stream",
          "text": [
            "[91 0 86 100 94 61 nan 80 88 96 93 57 92 95 74 90 83 60 'Chưa' 50 66 82 53\n",
            " 72 75 71 85 70 87 62 78 73 77 98 89 69 76 99 84 81 54 0.85]\n"
          ]
        }
      ],
      "source": [
        "print(df_combined_all['Chat Resopnse'].unique())"
      ]
    },
    {
      "cell_type": "code",
      "execution_count": null,
      "metadata": {
        "id": "7HJtFfGW4yjs"
      },
      "outputs": [],
      "source": [
        "df_combined_all['Chat Resopnse'] = df_combined_all['Chat Resopnse'].replace('Chưa', 0)\n",
        "df_combined_all['Chat Resopnse'] = df_combined_all['Chat Resopnse'].replace(0.85, 85)"
      ]
    },
    {
      "cell_type": "code",
      "execution_count": null,
      "metadata": {
        "colab": {
          "base_uri": "https://localhost:8080/"
        },
        "id": "FMCFnuBe4_sb",
        "outputId": "9df3c982-f299-4741-b445-a1ed56ce14df"
      },
      "outputs": [
        {
          "name": "stdout",
          "output_type": "stream",
          "text": [
            "[ 91.   0.  86. 100.  94.  61.  nan  80.  88.  96.  93.  57.  92.  95.\n",
            "  74.  90.  83.  60.  50.  66.  82.  53.  72.  75.  71.  85.  70.  87.\n",
            "  62.  78.  73.  77.  98.  89.  69.  76.  99.  84.  81.  54.]\n"
          ]
        }
      ],
      "source": [
        "print(df_combined_all['Chat Resopnse'].unique())"
      ]
    },
    {
      "cell_type": "code",
      "execution_count": null,
      "metadata": {
        "colab": {
          "base_uri": "https://localhost:8080/"
        },
        "id": "d3CInkDu5MCf",
        "outputId": "4bdae3d7-3b8d-4236-c5d4-e6cd32c0724f"
      },
      "outputs": [
        {
          "name": "stdout",
          "output_type": "stream",
          "text": [
            "[ 91.   0.  86. 100.  94.  61.  nan  80.  88.  96.  93.  57.  92.  95.\n",
            "  74.  90.  83.  60.  50.  66.  82.  53.  72.  75.  71.  85.  70.  87.\n",
            "  62.  78.  73.  77.  98.  89.  69.  76.  99.  84.  81.  54.]\n"
          ]
        }
      ],
      "source": [
        "print(df_combined_all['Chat Resopnse'].unique())"
      ]
    },
    {
      "cell_type": "code",
      "execution_count": null,
      "metadata": {
        "id": "OXX04jxO7aDg"
      },
      "outputs": [],
      "source": [
        "for i in df_combined_all['Chat Resopnse']:\n",
        "  if type(i) == str:\n",
        "    print(i)"
      ]
    },
    {
      "cell_type": "markdown",
      "metadata": {
        "id": "vIvsnhwd5Yy6"
      },
      "source": [
        "## **Followers**"
      ]
    },
    {
      "cell_type": "code",
      "execution_count": null,
      "metadata": {
        "colab": {
          "base_uri": "https://localhost:8080/"
        },
        "collapsed": true,
        "id": "Eze-rY6B5caK",
        "outputId": "e6664c14-e2d6-4737-85fa-cc6994d9856b"
      },
      "outputs": [
        {
          "name": "stdout",
          "output_type": "stream",
          "text": [
            "[693 443 114 499 15108 148 1483 2199 5435 nan 31 178 224 234 228 90 8 559\n",
            " 80 891 249 38 10 21 970 166 2072 18 2022 3043 8964 1057 565 14639 1709\n",
            " 410 '2.2k' 246 1891 376 476 206 520 590 2503 29 16 3673 1717 765 536 92\n",
            " 3517 655 652 325 1175 902 1478 3962 174 1889 4830 20 537 923 128 1576\n",
            " 1005 1207 2068 3602 60 820 75 532 296 78 13324 493 4206 136 362 6448 4636\n",
            " 279 2963 742 85 394 12798 957 601 243 101 2560 1019 147 12571 2583 835\n",
            " 1519 2684 175 18106 454 '3.4k' 1484 1496 761 2524 3719 2210 535 8780 5587\n",
            " 218 457 260 941 1654 469 834 2781 336 126 516 102 145 971 2 239 883 1500\n",
            " 1584 144 1051 252 298 129 801 3254 308 4901 132 352 103 3726 3105 2156\n",
            " 1606 3245 125 1550 33 613 1699 240 5275 45 429 36 3 1339 803 253 143 3318\n",
            " 1375 98 5701 343 522 711 12 3741 444 697 702 370 19 4280 628 551 5369 54\n",
            " 1645 464 58 2291 737 1899 12254 6333 250 3537 2611 1004 682 2836 1368\n",
            " 2925 2510 947 391 2530 816 11184 2814 2491 3013 211 1287 337 140 1439 354\n",
            " 283 1863 1567 397 965 194 277 14 97 611 479 982 273 1726 776 1007 193 272\n",
            " 1657 534 480 586 30 712 61 6090 40 1852 2565 106 977 11716 2106 34 1245\n",
            " 8145 738 4487 1144 7915 812 18249 280 1935 1395 2016 3196 600 351 2582\n",
            " 974 1095 4304 1798 187 945 284 96 467 1843 1204 584 2624 438 666 254 778\n",
            " 837 1866 621 377 1995 3373 3262 926 7484 1773 275 1384 433 446 894 1740\n",
            " 2285 107 68 2499 869 897 169 36093 173 698 616 650 927 135 417 332 24171\n",
            " 149 104 1397 4354 949 2933 209 1170 64 94 3113 1970 127 268 427 11708\n",
            " 4744 241 146 733 311 1992 740 82 428 51 300 214 373 1078 322 91 305 425\n",
            " 153 735 163 71 450 852 3269 52 27 466 421 561 9291 744 15481 1209 113\n",
            " 1001 290 331 1202 115 2242 496 846 736 1361 5551 55 285 1 3241 23 704\n",
            " 1404 89 36317 344 150 215 84 99 195 62 '8.2k' 251 633 2496 42 1089 11\n",
            " 2502 4599 420 '1.1k' 503 2170 1749 664 2730 379 9416 341 67 2683 1869 231\n",
            " 69 70 130 1633 121 73 26 1271 3027 463 3607 53 131 9 1450 17 2271 3033\n",
            " 622 1129 216 '1.3k' 2021 44 3858 5860 180 161 3469 361 432 158 13 '1.5k'\n",
            " 83 138 1729 328 673 157 302 937 108 2138 411 796 14695 656 3564 320 123\n",
            " 570 987 1105 2569 2675 515 441 247 142 818 264 43 76 612 122 110 2081 202\n",
            " 24 395 137 510 156 1779 753 39 492 571 606 382 2146 955 72 1289 219 2521\n",
            " 28 821 2733 6203 93 288 555 199 691 15 888 2351 506 48 715 2405 414 513\n",
            " 65 751 190 3194 1376 640 384 56 823 2591 1927 278 172 943 181 862 647 594\n",
            " 683 159 449 665 276 424 5 111 133 46 1655 1140 689 1251 109 6 1050 37 4\n",
            " 22 1674 210 731 3535 19996 77 460 105 179 2484 '1.7k' 813 119 155 1886\n",
            " 289 519 262 388 25 151 315 679 3551 1730 514 2766 641 2232 207 544 100\n",
            " 562 828 2083 49 1043 729 35 348 720 327 12646 9635 14894 233 2539 3554\n",
            " 4932 2469 1909 1284 2570 3621 1577 402 162 772 261 3766 '6.6k' 12326 220\n",
            " 1799 5805 1401 212 3493 '3.8k' 2099 1112 7 521 1307 607 313 8366 478 398\n",
            " 6834 2635 141 1000 152 196 838 3901 7942 730 390 2349 1380 4833 263 4128\n",
            " 1338 475 59 3065 2253 6120 512 8504 319 171 919 1352 1660 602 557 63 293]\n"
          ]
        }
      ],
      "source": [
        "print(df_combined_all['Followers'].unique())"
      ]
    },
    {
      "cell_type": "code",
      "execution_count": null,
      "metadata": {
        "id": "_wYppWBw5ccl"
      },
      "outputs": [],
      "source": [
        "df_combined_all['Followers'] = df_combined_all['Followers'].replace('2.2k', 2200)\n",
        "df_combined_all['Followers'] = df_combined_all['Followers'].replace('3.4k', 3400)\n",
        "df_combined_all['Followers'] = df_combined_all['Followers'].replace('8.2k', 8200)\n",
        "df_combined_all['Followers'] = df_combined_all['Followers'].replace('1.1k', 1100)\n",
        "df_combined_all['Followers'] = df_combined_all['Followers'].replace('1.3k', 1300)\n",
        "df_combined_all['Followers'] = df_combined_all['Followers'].replace('1.5k', 1500)\n",
        "df_combined_all['Followers'] = df_combined_all['Followers'].replace('1.7k', 1700)\n",
        "df_combined_all['Followers'] = df_combined_all['Followers'].replace('6.6k', 6600)\n",
        "df_combined_all['Followers'] = df_combined_all['Followers'].replace('3.8k', 3800)"
      ]
    },
    {
      "cell_type": "code",
      "execution_count": null,
      "metadata": {
        "id": "d1Uo_1Gv5ce8"
      },
      "outputs": [],
      "source": [
        "for i in df_combined_all['Followers']:\n",
        "  if type(i) == str:\n",
        "    print(i)"
      ]
    },
    {
      "cell_type": "markdown",
      "metadata": {
        "id": "6zYpJD997yF_"
      },
      "source": [
        "# ***Counter_Rating***"
      ]
    },
    {
      "cell_type": "code",
      "execution_count": null,
      "metadata": {
        "colab": {
          "base_uri": "https://localhost:8080/"
        },
        "id": "SiaJFx6e74ab",
        "outputId": "3ab7e58a-b77d-463d-b06a-a09464385b26"
      },
      "outputs": [
        {
          "name": "stdout",
          "output_type": "stream",
          "text": [
            "['1.6k+' 44 390 877 '2.8k+' 167 '7.6k' '2.3k' '2.6k' nan 218 '1.3k' 199\n",
            " 132 '1.1k' 684 124 '5.7k' 134 185 69 12 6 127 4 41 '5.0k' '8.3k' '21k'\n",
            " '2.1k' '3.1k' '8.1k' 90 '1.6k' '5.4k' 97 705 576 '3.5k' '1.9k' '1.7k' 356\n",
            " 378 39 '2.0k' '10k' '3.8k' 629 '17k' '1.5k' '1.2k' 648 '2.7k' '6.4k'\n",
            " '1.4k' 798 '14k' 182 220 '11k' 89 274 '6.5k' 327 579 '4.1k' 231 '6.1k'\n",
            " 164 '23k' 478 '9.9k' 778 '3.4k' '20k' '3.2k' 580 '5.2k' 923 887 '22k'\n",
            " '13k' '1.0k' '4.3k' '28k' 737 '5.3k' '2.4k' '9.0k' '5.8k' 751 '7.9k'\n",
            " '2.8k' '4.6k' '2.5k' 647 974 228 8 5 '7.3k' 519 '4.2k' '7.0k' '2.2k'\n",
            " '15k' 992 '4.9k' '1.8k' 100 296 56 '3.0k' 57 11 '12k' '2.9k' 248 621 896\n",
            " '5.6k' 411 '4.4k' 19 '3.7k' '8.6k' 559 291 '19k' '4.0k' 289 229 '9.5k'\n",
            " 727 651 604 244 375 159 740 805 583 144 782 682 80 245 679 916 819 206\n",
            " '8.4k' 261 349 '9.3k' 43 894 7 733 23 '3.3k' '6.2k' 437 '9.8k' 763 '4.5k'\n",
            " '6.0k' 373 315 310 384 765 286 352 '24k' 95 140 '5.1k' 211 343 769 634\n",
            " 924 '8.5k' 588 741 277 451 646 543 226 515 340 555 708 '33k' 890 33 536\n",
            " 191 522 165 477 15 616 561 717 135 175 650 188 116 475 279 907 722 235 75\n",
            " 403 28 '37k' 99 318 273 331 '36k' 370 53 '8.9k' 88 87 '4.8k' '5.5k'\n",
            " '6.7k' 544 125 435 284 83 791 297 355 73 227 424 554 68 158 118 456 917\n",
            " 32 219 742 871 294 126 680 81 372 464 169 2 513 600 146 305 807 54 1000\n",
            " 353 268 617 '7.8k' 344 '3.6k' 404 396 82 834 209 459 47 38 148 64 '7.7k'\n",
            " 444 300 493 654 232 987 '38k' 336 '16k' 162 975 660 85 281 813 151 823\n",
            " 351 413 63 568 662 633 502 899 995 803 398 394 941 190 562 521 181 929\n",
            " 247 767 76 485 335 445 59 20 971 374 31 111 260 149 22 67 423 14 3 16 71\n",
            " 42 10 60 1 777 776 745 870 879 399 591 160 18 52 597 155 65 '8.2k' 186\n",
            " '6.3k' 560 371 383 754 467 193 '3.9k' 101 86 758 152 202 406 '6.8k' 674\n",
            " '25k' 557 593 566 455 989 490 738 249 329 773 156 494 859 '9.2k' '7.1k'\n",
            " 359 319 986 524 914 428 517 675 573 739 706 615 928]\n"
          ]
        }
      ],
      "source": [
        "print(df_combined_all['Counter_Rating'].unique())"
      ]
    },
    {
      "cell_type": "code",
      "execution_count": null,
      "metadata": {
        "id": "9DXgyBMG74fs"
      },
      "outputs": [],
      "source": [
        "def convert_to_thousands(value):\n",
        "    if isinstance(value, str):  # Check if the value is a string before applying lower()\n",
        "        value = value.lower()\n",
        "        if 'k+' in value:\n",
        "            value = value.replace('k+', '')\n",
        "        elif 'k' in value:\n",
        "            value = value.replace('k', '')\n",
        "        else:\n",
        "            return int(value)  # Return the integer value if no 'k' is present\n",
        "\n",
        "        return int(float(value) * 1000)  # Convert to thousands if 'k' was present\n",
        "    else:\n",
        "        return value  # Return the value as is if it's not a string"
      ]
    },
    {
      "cell_type": "code",
      "execution_count": null,
      "metadata": {
        "id": "ICsuhgLj_8yt"
      },
      "outputs": [],
      "source": [
        "df_combined_all['Counter_Rating'] = df_combined_all['Counter_Rating'].apply(convert_to_thousands)"
      ]
    },
    {
      "cell_type": "code",
      "execution_count": null,
      "metadata": {
        "id": "dg5X-txhAMVF"
      },
      "outputs": [],
      "source": [
        "for i in df_combined_all['Counter_Rating']:\n",
        "  if type(i) == str:\n",
        "    print(i)"
      ]
    },
    {
      "cell_type": "markdown",
      "metadata": {
        "id": "jIC9qiDtAS7i"
      },
      "source": [
        "# ***`Shop Rating`***"
      ]
    },
    {
      "cell_type": "code",
      "execution_count": null,
      "metadata": {
        "colab": {
          "base_uri": "https://localhost:8080/"
        },
        "id": "B_4bUnSDAWGR",
        "outputId": "6729551e-2f22-4db1-ee8f-1797bc5b7bbc"
      },
      "outputs": [
        {
          "name": "stdout",
          "output_type": "stream",
          "text": [
            "[4.7 4.6 4.9 4.8 4.4 nan 4.5 4.2 5.  4.1 4.3 4.  3.8 3.6 3.9 2.5 3.5 3.7\n",
            " 3.4 3. ]\n"
          ]
        }
      ],
      "source": [
        "print(df_combined_all['Shop_Rating'].unique())"
      ]
    },
    {
      "cell_type": "markdown",
      "metadata": {
        "id": "UxhSzrNDAopl"
      },
      "source": [
        "# ***`Year_Joined`***"
      ]
    },
    {
      "cell_type": "code",
      "execution_count": null,
      "metadata": {
        "colab": {
          "base_uri": "https://localhost:8080/"
        },
        "id": "QYbGuUNaAWJL",
        "outputId": "b5a3d789-c50d-47d7-c0f4-339a67d93688"
      },
      "outputs": [
        {
          "name": "stdout",
          "output_type": "stream",
          "text": [
            "[2019. 2021. 2022. 2020. 2018.   nan 2017. 2024. 2023.]\n"
          ]
        }
      ],
      "source": [
        "print(df_combined_all['Year_Joined'].unique())"
      ]
    },
    {
      "cell_type": "markdown",
      "metadata": {
        "id": "F605qYPuDqkG"
      },
      "source": [
        "# ***`AsType(Int)`***"
      ]
    },
    {
      "cell_type": "code",
      "execution_count": null,
      "metadata": {
        "id": "-nvnBQFfAWN9"
      },
      "outputs": [],
      "source": [
        "# Handle missing or infinite values before converting to integer\n",
        "df_combined_all['Year_Joined'] = df_combined_all['Year_Joined'].fillna(0).astype(int)\n",
        "df_combined_all['Counter_Rating'] = df_combined_all['Counter_Rating'].fillna(0).astype(int)\n",
        "df_combined_all['Followers'] = df_combined_all['Followers'].fillna(0).astype(int)\n",
        "df_combined_all['Chat Resopnse'] = df_combined_all['Chat Resopnse'].fillna(0).astype(int)\n"
      ]
    },
    {
      "cell_type": "code",
      "execution_count": null,
      "metadata": {
        "colab": {
          "base_uri": "https://localhost:8080/",
          "height": 424
        },
        "id": "_muykyUBDgsL",
        "outputId": "f160b440-e287-4f20-a5e5-a4eb4c6439b7"
      },
      "outputs": [
        {
          "data": {
            "application/vnd.google.colaboratory.intrinsic+json": {
              "summary": "{\n  \"name\": \"df_combined_all\",\n  \"rows\": 942,\n  \"fields\": [\n    {\n      \"column\": \"id\",\n      \"properties\": {\n        \"dtype\": \"string\",\n        \"num_unique_values\": 898,\n        \"samples\": [\n          77754,\n          40753,\n          268883\n        ],\n        \"semantic_type\": \"\",\n        \"description\": \"\"\n      }\n    },\n    {\n      \"column\": \"link\",\n      \"properties\": {\n        \"dtype\": \"string\",\n        \"num_unique_values\": 896,\n        \"samples\": [\n          \"https://tiki.vn/cua-hang/venie\",\n          \"https://tiki.vn/cua-hang/may-chieu-nh-projector\",\n          \"https://tiki.vn/cua-hang/bilaha-store\"\n        ],\n        \"semantic_type\": \"\",\n        \"description\": \"\"\n      }\n    },\n    {\n      \"column\": \"name\",\n      \"properties\": {\n        \"dtype\": \"string\",\n        \"num_unique_values\": 897,\n        \"samples\": [\n          \"ERA MALL\",\n          \"\\u0110\\u1ed2NG H\\u1ed2 KIM\",\n          \"D\\u1ee4NG C\\u1ee4 Y KHOA B\\u00c1 KHANG\"\n        ],\n        \"semantic_type\": \"\",\n        \"description\": \"\"\n      }\n    },\n    {\n      \"column\": \"Unnamed: 3\",\n      \"properties\": {\n        \"dtype\": \"category\",\n        \"num_unique_values\": 21,\n        \"samples\": [\n          \"file 1\",\n          \"---------\",\n          \"------------\"\n        ],\n        \"semantic_type\": \"\",\n        \"description\": \"\"\n      }\n    },\n    {\n      \"column\": \"Unnamed: 4\",\n      \"properties\": {\n        \"dtype\": \"category\",\n        \"num_unique_values\": 3,\n        \"samples\": [\n          \"done\",\n          \"kh co sp\",\n          \"thi\\u1ebfu comments\"\n        ],\n        \"semantic_type\": \"\",\n        \"description\": \"\"\n      }\n    },\n    {\n      \"column\": \"Date\",\n      \"properties\": {\n        \"dtype\": \"category\",\n        \"num_unique_values\": 14,\n        \"samples\": [\n          \"30/07/2024\",\n          \"2024-01-08 00:00:00\",\n          \"18/07/2024\"\n        ],\n        \"semantic_type\": \"\",\n        \"description\": \"\"\n      }\n    },\n    {\n      \"column\": \"Unnamed: 6\",\n      \"properties\": {\n        \"dtype\": \"category\",\n        \"num_unique_values\": 1,\n        \"samples\": [\n          \"-\"\n        ],\n        \"semantic_type\": \"\",\n        \"description\": \"\"\n      }\n    },\n    {\n      \"column\": \"Year_Joined\",\n      \"properties\": {\n        \"dtype\": \"number\",\n        \"std\": 489,\n        \"min\": 0,\n        \"max\": 2024,\n        \"num_unique_values\": 9,\n        \"samples\": [\n          2024\n        ],\n        \"semantic_type\": \"\",\n        \"description\": \"\"\n      }\n    },\n    {\n      \"column\": \"Shop_Rating\",\n      \"properties\": {\n        \"dtype\": \"number\",\n        \"std\": 0.23887836202280854,\n        \"min\": 2.5,\n        \"max\": 5.0,\n        \"num_unique_values\": 19,\n        \"samples\": [\n          4.7\n        ],\n        \"semantic_type\": \"\",\n        \"description\": \"\"\n      }\n    },\n    {\n      \"column\": \"Counter_Rating\",\n      \"properties\": {\n        \"dtype\": \"number\",\n        \"std\": 4770,\n        \"min\": 0,\n        \"max\": 38000,\n        \"num_unique_values\": 404,\n        \"samples\": [\n          9900\n        ],\n        \"semantic_type\": \"\",\n        \"description\": \"\"\n      }\n    },\n    {\n      \"column\": \"Followers\",\n      \"properties\": {\n        \"dtype\": \"number\",\n        \"std\": 2919,\n        \"min\": 0,\n        \"max\": 36317,\n        \"num_unique_values\": 672,\n        \"samples\": [\n          421\n        ],\n        \"semantic_type\": \"\",\n        \"description\": \"\"\n      }\n    },\n    {\n      \"column\": \"Chat Resopnse\",\n      \"properties\": {\n        \"dtype\": \"number\",\n        \"std\": 42,\n        \"min\": 0,\n        \"max\": 100,\n        \"num_unique_values\": 39,\n        \"samples\": [\n          69\n        ],\n        \"semantic_type\": \"\",\n        \"description\": \"\"\n      }\n    }\n  ]\n}",
              "type": "dataframe",
              "variable_name": "df_combined_all"
            },
            "text/html": [
              "\n",
              "  <div id=\"df-c5a6393f-9667-4c24-a8be-6de2c71ee83e\" class=\"colab-df-container\">\n",
              "    <div>\n",
              "<style scoped>\n",
              "    .dataframe tbody tr th:only-of-type {\n",
              "        vertical-align: middle;\n",
              "    }\n",
              "\n",
              "    .dataframe tbody tr th {\n",
              "        vertical-align: top;\n",
              "    }\n",
              "\n",
              "    .dataframe thead th {\n",
              "        text-align: right;\n",
              "    }\n",
              "</style>\n",
              "<table border=\"1\" class=\"dataframe\">\n",
              "  <thead>\n",
              "    <tr style=\"text-align: right;\">\n",
              "      <th></th>\n",
              "      <th>id</th>\n",
              "      <th>link</th>\n",
              "      <th>name</th>\n",
              "      <th>Unnamed: 3</th>\n",
              "      <th>Unnamed: 4</th>\n",
              "      <th>Date</th>\n",
              "      <th>Unnamed: 6</th>\n",
              "      <th>Year_Joined</th>\n",
              "      <th>Shop_Rating</th>\n",
              "      <th>Counter_Rating</th>\n",
              "      <th>Followers</th>\n",
              "      <th>Chat Resopnse</th>\n",
              "    </tr>\n",
              "  </thead>\n",
              "  <tbody>\n",
              "    <tr>\n",
              "      <th>0</th>\n",
              "      <td>38963</td>\n",
              "      <td>https://tiki.vn/cua-hang/techmorevn</td>\n",
              "      <td>Techmorevn</td>\n",
              "      <td>NaN</td>\n",
              "      <td>done</td>\n",
              "      <td>18/07/2024</td>\n",
              "      <td>NaN</td>\n",
              "      <td>2019</td>\n",
              "      <td>4.7</td>\n",
              "      <td>1600</td>\n",
              "      <td>693</td>\n",
              "      <td>91</td>\n",
              "    </tr>\n",
              "    <tr>\n",
              "      <th>1</th>\n",
              "      <td>235971</td>\n",
              "      <td>https://tiki.vn/cua-hang/vivo-official-store</td>\n",
              "      <td>vivo Official Store</td>\n",
              "      <td>NaN</td>\n",
              "      <td>done</td>\n",
              "      <td>NaN</td>\n",
              "      <td>NaN</td>\n",
              "      <td>2021</td>\n",
              "      <td>4.6</td>\n",
              "      <td>44</td>\n",
              "      <td>443</td>\n",
              "      <td>0</td>\n",
              "    </tr>\n",
              "    <tr>\n",
              "      <th>2</th>\n",
              "      <td>113592</td>\n",
              "      <td>https://tiki.vn/cua-hang/vien-thong-ha-nhung</td>\n",
              "      <td>Viễn thông Hà Nhung</td>\n",
              "      <td>NaN</td>\n",
              "      <td>done</td>\n",
              "      <td>NaN</td>\n",
              "      <td>NaN</td>\n",
              "      <td>2022</td>\n",
              "      <td>4.9</td>\n",
              "      <td>390</td>\n",
              "      <td>114</td>\n",
              "      <td>86</td>\n",
              "    </tr>\n",
              "    <tr>\n",
              "      <th>3</th>\n",
              "      <td>106499</td>\n",
              "      <td>https://tiki.vn/cua-hang/shop-may-doc-sach-ha-noi</td>\n",
              "      <td>Shop Máy Đọc Sách Hà Nội</td>\n",
              "      <td>NaN</td>\n",
              "      <td>done</td>\n",
              "      <td>NaN</td>\n",
              "      <td>NaN</td>\n",
              "      <td>2020</td>\n",
              "      <td>4.8</td>\n",
              "      <td>877</td>\n",
              "      <td>499</td>\n",
              "      <td>0</td>\n",
              "    </tr>\n",
              "    <tr>\n",
              "      <th>4</th>\n",
              "      <td>29952</td>\n",
              "      <td>https://tiki.vn/cua-hang/hong-hanh-mobile</td>\n",
              "      <td>Hồng Hạnh Mobile</td>\n",
              "      <td>file 1</td>\n",
              "      <td>done</td>\n",
              "      <td>NaN</td>\n",
              "      <td>NaN</td>\n",
              "      <td>2019</td>\n",
              "      <td>4.7</td>\n",
              "      <td>2800</td>\n",
              "      <td>15108</td>\n",
              "      <td>100</td>\n",
              "    </tr>\n",
              "    <tr>\n",
              "      <th>...</th>\n",
              "      <td>...</td>\n",
              "      <td>...</td>\n",
              "      <td>...</td>\n",
              "      <td>...</td>\n",
              "      <td>...</td>\n",
              "      <td>...</td>\n",
              "      <td>...</td>\n",
              "      <td>...</td>\n",
              "      <td>...</td>\n",
              "      <td>...</td>\n",
              "      <td>...</td>\n",
              "      <td>...</td>\n",
              "    </tr>\n",
              "    <tr>\n",
              "      <th>937</th>\n",
              "      <td>265554</td>\n",
              "      <td>https://tiki.vn/cua-hang/gor-shop</td>\n",
              "      <td>Gor Shop</td>\n",
              "      <td>NaN</td>\n",
              "      <td>NaN</td>\n",
              "      <td>2024-03-08 00:00:00</td>\n",
              "      <td>NaN</td>\n",
              "      <td>2022</td>\n",
              "      <td>4.5</td>\n",
              "      <td>199</td>\n",
              "      <td>63</td>\n",
              "      <td>0</td>\n",
              "    </tr>\n",
              "    <tr>\n",
              "      <th>938</th>\n",
              "      <td>338</td>\n",
              "      <td>https://tiki.vn/cua-hang/nha-gia-kim</td>\n",
              "      <td>Nhà Giả Kim</td>\n",
              "      <td>NaN</td>\n",
              "      <td>NaN</td>\n",
              "      <td>2024-03-08 00:00:00</td>\n",
              "      <td>NaN</td>\n",
              "      <td>2017</td>\n",
              "      <td>4.5</td>\n",
              "      <td>2700</td>\n",
              "      <td>852</td>\n",
              "      <td>100</td>\n",
              "    </tr>\n",
              "    <tr>\n",
              "      <th>939</th>\n",
              "      <td>20411</td>\n",
              "      <td>https://tiki.vn/cua-hang/phu-kien-cho-ban-07</td>\n",
              "      <td>Phụ kiện cho bạn 07</td>\n",
              "      <td>NaN</td>\n",
              "      <td>NaN</td>\n",
              "      <td>2024-03-08 00:00:00</td>\n",
              "      <td>NaN</td>\n",
              "      <td>2019</td>\n",
              "      <td>4.5</td>\n",
              "      <td>6200</td>\n",
              "      <td>616</td>\n",
              "      <td>90</td>\n",
              "    </tr>\n",
              "    <tr>\n",
              "      <th>940</th>\n",
              "      <td>362</td>\n",
              "      <td>https://tiki.vn/cua-hang/cong-nghe-song-tin</td>\n",
              "      <td>Công nghệ Song Tín</td>\n",
              "      <td>NaN</td>\n",
              "      <td>NaN</td>\n",
              "      <td>2024-03-08 00:00:00</td>\n",
              "      <td>NaN</td>\n",
              "      <td>2017</td>\n",
              "      <td>3.8</td>\n",
              "      <td>928</td>\n",
              "      <td>138</td>\n",
              "      <td>0</td>\n",
              "    </tr>\n",
              "    <tr>\n",
              "      <th>941</th>\n",
              "      <td>237853</td>\n",
              "      <td>https://tiki.vn/cua-hang/ts-hcm-store</td>\n",
              "      <td>TS HCM STORE</td>\n",
              "      <td>NaN</td>\n",
              "      <td>NaN</td>\n",
              "      <td>2024-03-08 00:00:00</td>\n",
              "      <td>NaN</td>\n",
              "      <td>2021</td>\n",
              "      <td>4.6</td>\n",
              "      <td>1600</td>\n",
              "      <td>293</td>\n",
              "      <td>0</td>\n",
              "    </tr>\n",
              "  </tbody>\n",
              "</table>\n",
              "<p>942 rows × 12 columns</p>\n",
              "</div>\n",
              "    <div class=\"colab-df-buttons\">\n",
              "\n",
              "  <div class=\"colab-df-container\">\n",
              "    <button class=\"colab-df-convert\" onclick=\"convertToInteractive('df-c5a6393f-9667-4c24-a8be-6de2c71ee83e')\"\n",
              "            title=\"Convert this dataframe to an interactive table.\"\n",
              "            style=\"display:none;\">\n",
              "\n",
              "  <svg xmlns=\"http://www.w3.org/2000/svg\" height=\"24px\" viewBox=\"0 -960 960 960\">\n",
              "    <path d=\"M120-120v-720h720v720H120Zm60-500h600v-160H180v160Zm220 220h160v-160H400v160Zm0 220h160v-160H400v160ZM180-400h160v-160H180v160Zm440 0h160v-160H620v160ZM180-180h160v-160H180v160Zm440 0h160v-160H620v160Z\"/>\n",
              "  </svg>\n",
              "    </button>\n",
              "\n",
              "  <style>\n",
              "    .colab-df-container {\n",
              "      display:flex;\n",
              "      gap: 12px;\n",
              "    }\n",
              "\n",
              "    .colab-df-convert {\n",
              "      background-color: #E8F0FE;\n",
              "      border: none;\n",
              "      border-radius: 50%;\n",
              "      cursor: pointer;\n",
              "      display: none;\n",
              "      fill: #1967D2;\n",
              "      height: 32px;\n",
              "      padding: 0 0 0 0;\n",
              "      width: 32px;\n",
              "    }\n",
              "\n",
              "    .colab-df-convert:hover {\n",
              "      background-color: #E2EBFA;\n",
              "      box-shadow: 0px 1px 2px rgba(60, 64, 67, 0.3), 0px 1px 3px 1px rgba(60, 64, 67, 0.15);\n",
              "      fill: #174EA6;\n",
              "    }\n",
              "\n",
              "    .colab-df-buttons div {\n",
              "      margin-bottom: 4px;\n",
              "    }\n",
              "\n",
              "    [theme=dark] .colab-df-convert {\n",
              "      background-color: #3B4455;\n",
              "      fill: #D2E3FC;\n",
              "    }\n",
              "\n",
              "    [theme=dark] .colab-df-convert:hover {\n",
              "      background-color: #434B5C;\n",
              "      box-shadow: 0px 1px 3px 1px rgba(0, 0, 0, 0.15);\n",
              "      filter: drop-shadow(0px 1px 2px rgba(0, 0, 0, 0.3));\n",
              "      fill: #FFFFFF;\n",
              "    }\n",
              "  </style>\n",
              "\n",
              "    <script>\n",
              "      const buttonEl =\n",
              "        document.querySelector('#df-c5a6393f-9667-4c24-a8be-6de2c71ee83e button.colab-df-convert');\n",
              "      buttonEl.style.display =\n",
              "        google.colab.kernel.accessAllowed ? 'block' : 'none';\n",
              "\n",
              "      async function convertToInteractive(key) {\n",
              "        const element = document.querySelector('#df-c5a6393f-9667-4c24-a8be-6de2c71ee83e');\n",
              "        const dataTable =\n",
              "          await google.colab.kernel.invokeFunction('convertToInteractive',\n",
              "                                                    [key], {});\n",
              "        if (!dataTable) return;\n",
              "\n",
              "        const docLinkHtml = 'Like what you see? Visit the ' +\n",
              "          '<a target=\"_blank\" href=https://colab.research.google.com/notebooks/data_table.ipynb>data table notebook</a>'\n",
              "          + ' to learn more about interactive tables.';\n",
              "        element.innerHTML = '';\n",
              "        dataTable['output_type'] = 'display_data';\n",
              "        await google.colab.output.renderOutput(dataTable, element);\n",
              "        const docLink = document.createElement('div');\n",
              "        docLink.innerHTML = docLinkHtml;\n",
              "        element.appendChild(docLink);\n",
              "      }\n",
              "    </script>\n",
              "  </div>\n",
              "\n",
              "\n",
              "<div id=\"df-ff31d714-9715-404a-840b-0654ab6565ca\">\n",
              "  <button class=\"colab-df-quickchart\" onclick=\"quickchart('df-ff31d714-9715-404a-840b-0654ab6565ca')\"\n",
              "            title=\"Suggest charts\"\n",
              "            style=\"display:none;\">\n",
              "\n",
              "<svg xmlns=\"http://www.w3.org/2000/svg\" height=\"24px\"viewBox=\"0 0 24 24\"\n",
              "     width=\"24px\">\n",
              "    <g>\n",
              "        <path d=\"M19 3H5c-1.1 0-2 .9-2 2v14c0 1.1.9 2 2 2h14c1.1 0 2-.9 2-2V5c0-1.1-.9-2-2-2zM9 17H7v-7h2v7zm4 0h-2V7h2v10zm4 0h-2v-4h2v4z\"/>\n",
              "    </g>\n",
              "</svg>\n",
              "  </button>\n",
              "\n",
              "<style>\n",
              "  .colab-df-quickchart {\n",
              "      --bg-color: #E8F0FE;\n",
              "      --fill-color: #1967D2;\n",
              "      --hover-bg-color: #E2EBFA;\n",
              "      --hover-fill-color: #174EA6;\n",
              "      --disabled-fill-color: #AAA;\n",
              "      --disabled-bg-color: #DDD;\n",
              "  }\n",
              "\n",
              "  [theme=dark] .colab-df-quickchart {\n",
              "      --bg-color: #3B4455;\n",
              "      --fill-color: #D2E3FC;\n",
              "      --hover-bg-color: #434B5C;\n",
              "      --hover-fill-color: #FFFFFF;\n",
              "      --disabled-bg-color: #3B4455;\n",
              "      --disabled-fill-color: #666;\n",
              "  }\n",
              "\n",
              "  .colab-df-quickchart {\n",
              "    background-color: var(--bg-color);\n",
              "    border: none;\n",
              "    border-radius: 50%;\n",
              "    cursor: pointer;\n",
              "    display: none;\n",
              "    fill: var(--fill-color);\n",
              "    height: 32px;\n",
              "    padding: 0;\n",
              "    width: 32px;\n",
              "  }\n",
              "\n",
              "  .colab-df-quickchart:hover {\n",
              "    background-color: var(--hover-bg-color);\n",
              "    box-shadow: 0 1px 2px rgba(60, 64, 67, 0.3), 0 1px 3px 1px rgba(60, 64, 67, 0.15);\n",
              "    fill: var(--button-hover-fill-color);\n",
              "  }\n",
              "\n",
              "  .colab-df-quickchart-complete:disabled,\n",
              "  .colab-df-quickchart-complete:disabled:hover {\n",
              "    background-color: var(--disabled-bg-color);\n",
              "    fill: var(--disabled-fill-color);\n",
              "    box-shadow: none;\n",
              "  }\n",
              "\n",
              "  .colab-df-spinner {\n",
              "    border: 2px solid var(--fill-color);\n",
              "    border-color: transparent;\n",
              "    border-bottom-color: var(--fill-color);\n",
              "    animation:\n",
              "      spin 1s steps(1) infinite;\n",
              "  }\n",
              "\n",
              "  @keyframes spin {\n",
              "    0% {\n",
              "      border-color: transparent;\n",
              "      border-bottom-color: var(--fill-color);\n",
              "      border-left-color: var(--fill-color);\n",
              "    }\n",
              "    20% {\n",
              "      border-color: transparent;\n",
              "      border-left-color: var(--fill-color);\n",
              "      border-top-color: var(--fill-color);\n",
              "    }\n",
              "    30% {\n",
              "      border-color: transparent;\n",
              "      border-left-color: var(--fill-color);\n",
              "      border-top-color: var(--fill-color);\n",
              "      border-right-color: var(--fill-color);\n",
              "    }\n",
              "    40% {\n",
              "      border-color: transparent;\n",
              "      border-right-color: var(--fill-color);\n",
              "      border-top-color: var(--fill-color);\n",
              "    }\n",
              "    60% {\n",
              "      border-color: transparent;\n",
              "      border-right-color: var(--fill-color);\n",
              "    }\n",
              "    80% {\n",
              "      border-color: transparent;\n",
              "      border-right-color: var(--fill-color);\n",
              "      border-bottom-color: var(--fill-color);\n",
              "    }\n",
              "    90% {\n",
              "      border-color: transparent;\n",
              "      border-bottom-color: var(--fill-color);\n",
              "    }\n",
              "  }\n",
              "</style>\n",
              "\n",
              "  <script>\n",
              "    async function quickchart(key) {\n",
              "      const quickchartButtonEl =\n",
              "        document.querySelector('#' + key + ' button');\n",
              "      quickchartButtonEl.disabled = true;  // To prevent multiple clicks.\n",
              "      quickchartButtonEl.classList.add('colab-df-spinner');\n",
              "      try {\n",
              "        const charts = await google.colab.kernel.invokeFunction(\n",
              "            'suggestCharts', [key], {});\n",
              "      } catch (error) {\n",
              "        console.error('Error during call to suggestCharts:', error);\n",
              "      }\n",
              "      quickchartButtonEl.classList.remove('colab-df-spinner');\n",
              "      quickchartButtonEl.classList.add('colab-df-quickchart-complete');\n",
              "    }\n",
              "    (() => {\n",
              "      let quickchartButtonEl =\n",
              "        document.querySelector('#df-ff31d714-9715-404a-840b-0654ab6565ca button');\n",
              "      quickchartButtonEl.style.display =\n",
              "        google.colab.kernel.accessAllowed ? 'block' : 'none';\n",
              "    })();\n",
              "  </script>\n",
              "</div>\n",
              "\n",
              "  <div id=\"id_18738f0a-138e-469b-8587-00d9db7f4668\">\n",
              "    <style>\n",
              "      .colab-df-generate {\n",
              "        background-color: #E8F0FE;\n",
              "        border: none;\n",
              "        border-radius: 50%;\n",
              "        cursor: pointer;\n",
              "        display: none;\n",
              "        fill: #1967D2;\n",
              "        height: 32px;\n",
              "        padding: 0 0 0 0;\n",
              "        width: 32px;\n",
              "      }\n",
              "\n",
              "      .colab-df-generate:hover {\n",
              "        background-color: #E2EBFA;\n",
              "        box-shadow: 0px 1px 2px rgba(60, 64, 67, 0.3), 0px 1px 3px 1px rgba(60, 64, 67, 0.15);\n",
              "        fill: #174EA6;\n",
              "      }\n",
              "\n",
              "      [theme=dark] .colab-df-generate {\n",
              "        background-color: #3B4455;\n",
              "        fill: #D2E3FC;\n",
              "      }\n",
              "\n",
              "      [theme=dark] .colab-df-generate:hover {\n",
              "        background-color: #434B5C;\n",
              "        box-shadow: 0px 1px 3px 1px rgba(0, 0, 0, 0.15);\n",
              "        filter: drop-shadow(0px 1px 2px rgba(0, 0, 0, 0.3));\n",
              "        fill: #FFFFFF;\n",
              "      }\n",
              "    </style>\n",
              "    <button class=\"colab-df-generate\" onclick=\"generateWithVariable('df_combined_all')\"\n",
              "            title=\"Generate code using this dataframe.\"\n",
              "            style=\"display:none;\">\n",
              "\n",
              "  <svg xmlns=\"http://www.w3.org/2000/svg\" height=\"24px\"viewBox=\"0 0 24 24\"\n",
              "       width=\"24px\">\n",
              "    <path d=\"M7,19H8.4L18.45,9,17,7.55,7,17.6ZM5,21V16.75L18.45,3.32a2,2,0,0,1,2.83,0l1.4,1.43a1.91,1.91,0,0,1,.58,1.4,1.91,1.91,0,0,1-.58,1.4L9.25,21ZM18.45,9,17,7.55Zm-12,3A5.31,5.31,0,0,0,4.9,8.1,5.31,5.31,0,0,0,1,6.5,5.31,5.31,0,0,0,4.9,4.9,5.31,5.31,0,0,0,6.5,1,5.31,5.31,0,0,0,8.1,4.9,5.31,5.31,0,0,0,12,6.5,5.46,5.46,0,0,0,6.5,12Z\"/>\n",
              "  </svg>\n",
              "    </button>\n",
              "    <script>\n",
              "      (() => {\n",
              "      const buttonEl =\n",
              "        document.querySelector('#id_18738f0a-138e-469b-8587-00d9db7f4668 button.colab-df-generate');\n",
              "      buttonEl.style.display =\n",
              "        google.colab.kernel.accessAllowed ? 'block' : 'none';\n",
              "\n",
              "      buttonEl.onclick = () => {\n",
              "        google.colab.notebook.generateWithVariable('df_combined_all');\n",
              "      }\n",
              "      })();\n",
              "    </script>\n",
              "  </div>\n",
              "\n",
              "    </div>\n",
              "  </div>\n"
            ],
            "text/plain": [
              "         id                                               link  \\\n",
              "0     38963                https://tiki.vn/cua-hang/techmorevn   \n",
              "1    235971       https://tiki.vn/cua-hang/vivo-official-store   \n",
              "2    113592       https://tiki.vn/cua-hang/vien-thong-ha-nhung   \n",
              "3    106499  https://tiki.vn/cua-hang/shop-may-doc-sach-ha-noi   \n",
              "4     29952          https://tiki.vn/cua-hang/hong-hanh-mobile   \n",
              "..      ...                                                ...   \n",
              "937  265554                  https://tiki.vn/cua-hang/gor-shop   \n",
              "938     338               https://tiki.vn/cua-hang/nha-gia-kim   \n",
              "939   20411       https://tiki.vn/cua-hang/phu-kien-cho-ban-07   \n",
              "940     362        https://tiki.vn/cua-hang/cong-nghe-song-tin   \n",
              "941  237853              https://tiki.vn/cua-hang/ts-hcm-store   \n",
              "\n",
              "                         name Unnamed: 3 Unnamed: 4                 Date  \\\n",
              "0                  Techmorevn        NaN       done           18/07/2024   \n",
              "1         vivo Official Store        NaN       done                  NaN   \n",
              "2         Viễn thông Hà Nhung        NaN       done                  NaN   \n",
              "3    Shop Máy Đọc Sách Hà Nội        NaN       done                  NaN   \n",
              "4            Hồng Hạnh Mobile     file 1       done                  NaN   \n",
              "..                        ...        ...        ...                  ...   \n",
              "937                  Gor Shop        NaN        NaN  2024-03-08 00:00:00   \n",
              "938               Nhà Giả Kim        NaN        NaN  2024-03-08 00:00:00   \n",
              "939       Phụ kiện cho bạn 07        NaN        NaN  2024-03-08 00:00:00   \n",
              "940        Công nghệ Song Tín        NaN        NaN  2024-03-08 00:00:00   \n",
              "941              TS HCM STORE        NaN        NaN  2024-03-08 00:00:00   \n",
              "\n",
              "    Unnamed: 6  Year_Joined  Shop_Rating  Counter_Rating  Followers  \\\n",
              "0          NaN         2019          4.7            1600        693   \n",
              "1          NaN         2021          4.6              44        443   \n",
              "2          NaN         2022          4.9             390        114   \n",
              "3          NaN         2020          4.8             877        499   \n",
              "4          NaN         2019          4.7            2800      15108   \n",
              "..         ...          ...          ...             ...        ...   \n",
              "937        NaN         2022          4.5             199         63   \n",
              "938        NaN         2017          4.5            2700        852   \n",
              "939        NaN         2019          4.5            6200        616   \n",
              "940        NaN         2017          3.8             928        138   \n",
              "941        NaN         2021          4.6            1600        293   \n",
              "\n",
              "     Chat Resopnse  \n",
              "0               91  \n",
              "1                0  \n",
              "2               86  \n",
              "3                0  \n",
              "4              100  \n",
              "..             ...  \n",
              "937              0  \n",
              "938            100  \n",
              "939             90  \n",
              "940              0  \n",
              "941              0  \n",
              "\n",
              "[942 rows x 12 columns]"
            ]
          },
          "execution_count": 127,
          "metadata": {},
          "output_type": "execute_result"
        }
      ],
      "source": [
        "df_combined_all"
      ]
    },
    {
      "cell_type": "markdown",
      "metadata": {
        "id": "Ecl_GSG075K6"
      },
      "source": [
        "# ***`Save`***"
      ]
    },
    {
      "cell_type": "code",
      "execution_count": null,
      "metadata": {
        "id": "v8lZIk6b5Hyv"
      },
      "outputs": [],
      "source": [
        "df_combined_all.to_excel('/content/drive/MyDrive/Colab Notebooks/Dataset TIki/df_combined_all.xlsx')"
      ]
    }
  ],
  "metadata": {
    "colab": {
      "provenance": [],
      "collapsed_sections": [
        "X1TiwOp0q78h",
        "R9SthOyny7Nf",
        "9JM5RNer_hRq",
        "KVmdWCIfGBAe",
        "fo8kK3tz7x1v",
        "svcdKbtZuYty",
        "X1bSGgfgKxZ3",
        "FjhzcpKHK6_M",
        "ETRjWHx-Yf2J",
        "uKbkqUzudzlC",
        "Dys1hT_k5TqV",
        "vIvsnhwd5Yy6",
        "6zYpJD997yF_",
        "jIC9qiDtAS7i",
        "UxhSzrNDAopl",
        "F605qYPuDqkG",
        "Ecl_GSG075K6"
      ],
      "authorship_tag": "ABX9TyPcUh+54XULiBkQYhqHf73b",
      "include_colab_link": true
    },
    "kernelspec": {
      "display_name": "Python 3",
      "name": "python3"
    },
    "language_info": {
      "name": "python"
    }
  },
  "nbformat": 4,
  "nbformat_minor": 0
}